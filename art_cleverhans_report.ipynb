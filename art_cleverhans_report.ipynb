{
 "cells": [
  {
   "cell_type": "markdown",
   "metadata": {},
   "source": [
    "### Setup"
   ]
  },
  {
   "cell_type": "code",
   "execution_count": 1,
   "metadata": {},
   "outputs": [
    {
     "name": "stderr",
     "output_type": "stream",
     "text": [
      "c:\\Users\\Wojciech\\Desktop\\ML-Advanced\\Benchmark-of-Methods-for-Adversarial-Attacks\\venv\\lib\\site-packages\\tqdm\\auto.py:21: TqdmWarning: IProgress not found. Please update jupyter and ipywidgets. See https://ipywidgets.readthedocs.io/en/stable/user_install.html\n",
      "  from .autonotebook import tqdm as notebook_tqdm\n"
     ]
    }
   ],
   "source": [
    "import torch\n",
    "import numpy as np\n",
    "import timm\n",
    "import torchvision as tvision\n",
    "import tensorflow as tf\n",
    "import requests\n",
    "\n",
    "from PIL import Image\n",
    "from urllib.request import urlopen\n",
    "from transformers import AutoImageProcessor, ResNetForImageClassification\n",
    "\n",
    "from art.estimators.classification import PyTorchClassifier\n",
    "from art.attacks.evasion import (CarliniL2Method, ProjectedGradientDescent, SaliencyMapMethod,\n",
    "                                 ElasticNet, DeepFool, HopSkipJump)\n",
    "\n",
    "from cleverhans.torch.attacks.projected_gradient_descent import projected_gradient_descent\n",
    "from cleverhans.tf2.attacks.carlini_wagner_l2 import carlini_wagner_l2\n",
    "\n",
    "class DoubleModelWrapper(torch.nn.Module):\n",
    "    def __init__(self, model):\n",
    "        super().__init__()\n",
    "        self.model = model.to(dtype=torch.double).cuda()\n",
    "\n",
    "    def forward(self, x):\n",
    "        x = x.to(dtype=torch.double)\n",
    "        outputs = self.model(x)\n",
    "        logits = outputs.logits.to(dtype=torch.double)\n",
    "        return logits\n",
    "    \n",
    "class DoubleModelTimmWrapper(torch.nn.Module):\n",
    "    def __init__(self, model):\n",
    "        super().__init__()\n",
    "        self.model = model.to(dtype=torch.double)\n",
    "\n",
    "    def forward(self, x):\n",
    "        x = x.to(dtype=torch.double)\n",
    "        outputs = self.model(x)\n",
    "        return outputs.to(dtype=torch.double)\n",
    "\n",
    "\n",
    "# Setting up models\n",
    "\n",
    "mobile_model = timm.create_model('tf_mobilenetv3_large_minimal_100.in1k', pretrained=True)\n",
    "mobile_model = mobile_model.cuda().eval()\n",
    "\n",
    "mobile_data_config = timm.data.resolve_model_data_config(mobile_model)\n",
    "mobile_transforms = timm.data.create_transform(**mobile_data_config, is_training=False)\n",
    "\n",
    "vgg16_model = timm.create_model('vgg16.tv_in1k', pretrained=True)\n",
    "vgg16_model = vgg16_model.cuda().eval()\n",
    "\n",
    "vgg16_data_config = timm.data.resolve_model_data_config(vgg16_model)\n",
    "vgg16_transforms = timm.data.create_transform(**vgg16_data_config, is_training=False)\n",
    "\n",
    "processor = AutoImageProcessor.from_pretrained(\"microsoft/resnet-50\")\n",
    "hf_resnet = ResNetForImageClassification.from_pretrained(\"microsoft/resnet-50\")\n",
    "resnet_model = DoubleModelWrapper(hf_resnet)\n",
    "\n",
    "\n",
    "# Downloading labels for ImageNet1k\n",
    "url = \"https://raw.githubusercontent.com/anishathalye/imagenet-simple-labels/master/imagenet-simple-labels.json\"\n",
    "imagenet_labels = requests.get(url).json()\n",
    "\n",
    "# prepare image\n",
    "image = Image.open(urlopen(\"https://transforms.stlzoo.org/production/animals/red-kangaroo-02-01.jpg?w=1200&h=1200&auto=compress%2Cformat&fit=crop&dm=1654795233&s=5f137aa9a410a7ea3386c6972265111d\"))\n",
    "\n",
    "img_transforms = tvision.transforms.Compose([\n",
    "    tvision.transforms.Resize((224, 224)),\n",
    "    tvision.transforms.ToTensor()\n",
    "])\n",
    "\n",
    "clever_img_torch = img_transforms(image).unsqueeze(0)\n",
    "clever_img_tf = tf.convert_to_tensor(image, dtype=tf.float32)\n",
    "art_img_np = clever_img_torch.numpy()"
   ]
  },
  {
   "cell_type": "code",
   "execution_count": 2,
   "metadata": {},
   "outputs": [
    {
     "name": "stdout",
     "output_type": "stream",
     "text": [
      "True\n"
     ]
    }
   ],
   "source": [
    "print(torch.cuda.is_available())"
   ]
  },
  {
   "cell_type": "markdown",
   "metadata": {},
   "source": [
    "## Directed Attacks"
   ]
  },
  {
   "cell_type": "code",
   "execution_count": 3,
   "metadata": {},
   "outputs": [],
   "source": [
    "# helper function for getting probability, class id and class name\n",
    "def convert2label(pred, is_clever=False):\n",
    "    label_id, probability = 0, 0.\n",
    "    \n",
    "    if not is_clever:\n",
    "        tensor_pred = torch.from_numpy(pred)\n",
    "        probabilities = torch.nn.functional.softmax(tensor_pred, dim=1)\n",
    "        label_id = int(torch.argmax(tensor_pred))\n",
    "        probability = torch.max(probabilities)\n",
    "\n",
    "    else:\n",
    "        probability = torch.max(pred)\n",
    "        label_id = int(torch.argmax(pred))\n",
    "        \n",
    "    return label_id, probability"
   ]
  },
  {
   "cell_type": "code",
   "execution_count": 4,
   "metadata": {},
   "outputs": [],
   "source": [
    "# helper function for executing ART attacks\n",
    "import time\n",
    "\n",
    "def art_attack(attack, img, classifier, targeted=False, target=None):\n",
    "\n",
    "    start = time.time()\n",
    "\n",
    "    adv_img = attack.generate(x=img) if not targeted else attack.generate(x=img, y=target)\n",
    "\n",
    "    normal_pred = classifier.predict(img)\n",
    "    adv_pred = classifier.predict(adv_img)\n",
    "    \n",
    "    attack_time = time.time() - start\n",
    "\n",
    "    return normal_pred, adv_pred, attack_time \n"
   ]
  },
  {
   "cell_type": "markdown",
   "metadata": {},
   "source": [
    "### Adversarial Robustness Toolbox"
   ]
  },
  {
   "cell_type": "code",
   "execution_count": 5,
   "metadata": {},
   "outputs": [],
   "source": [
    "# prepare classifiers\n",
    "mobile_classifier = PyTorchClassifier(\n",
    "    model = mobile_model,\n",
    "    loss = torch.nn.CrossEntropyLoss(),\n",
    "    input_shape=(3,224, 224),\n",
    "    nb_classes=len(imagenet_labels),\n",
    "    optimizer=None,\n",
    "    clip_values=(0,1)\n",
    ")\n",
    "\n",
    "vgg16_classifier = PyTorchClassifier(\n",
    "    model = vgg16_model,\n",
    "    loss = torch.nn.CrossEntropyLoss(),\n",
    "    input_shape=(3,224,224),\n",
    "    nb_classes=len(imagenet_labels),\n",
    "    optimizer=None,\n",
    "    clip_values=(0,1)\n",
    ")\n",
    "\n",
    "resnet_classifier = PyTorchClassifier(\n",
    "    model = resnet_model,\n",
    "    loss = torch.nn.CrossEntropyLoss(),\n",
    "    input_shape=(3,224,224),\n",
    "    nb_classes=len(imagenet_labels),\n",
    "    optimizer=None,\n",
    "    clip_values=(0,1)\n",
    ")"
   ]
  },
  {
   "cell_type": "markdown",
   "metadata": {},
   "source": [
    "#### Carlini Wagner L2"
   ]
  },
  {
   "cell_type": "code",
   "execution_count": null,
   "metadata": {},
   "outputs": [
    {
     "name": "stderr",
     "output_type": "stream",
     "text": [
      "C&W L_2: 100%|██████████| 1/1 [00:14<00:00, 14.55s/it]\n",
      "C&W L_2: 100%|██████████| 1/1 [00:14<00:00, 14.11s/it]\n",
      "C&W L_2: 100%|██████████| 1/1 [00:13<00:00, 13.99s/it]\n",
      "C&W L_2: 100%|██████████| 1/1 [00:13<00:00, 13.55s/it]\n",
      "C&W L_2: 100%|██████████| 1/1 [00:13<00:00, 13.08s/it]\n"
     ]
    },
    {
     "name": "stdout",
     "output_type": "stream",
     "text": [
      "===================================================================================================================================================\n",
      "\n",
      "Model: mobile_v3, Correct class: wallaby, Adversarial class: spiny lobster\n",
      "\n",
      "Average time: 13.896895599365234, Average normal probability: 0.2399435043334961, Average adversary probability: 0.011769927106797695\n",
      "\n",
      "\n"
     ]
    },
    {
     "name": "stderr",
     "output_type": "stream",
     "text": [
      "C&W L_2: 100%|██████████| 1/1 [03:16<00:00, 196.63s/it]\n",
      "C&W L_2: 100%|██████████| 1/1 [03:19<00:00, 199.93s/it]\n",
      "C&W L_2: 100%|██████████| 1/1 [03:22<00:00, 202.86s/it]\n",
      "C&W L_2: 100%|██████████| 1/1 [03:25<00:00, 205.03s/it]\n",
      "C&W L_2: 100%|██████████| 1/1 [03:25<00:00, 205.80s/it]\n"
     ]
    },
    {
     "name": "stdout",
     "output_type": "stream",
     "text": [
      "===================================================================================================================================================\n",
      "\n",
      "Model: vgg16, Correct class: dingo, Adversarial class: spiny lobster\n",
      "\n",
      "Average time: 202.8521964073181, Average normal probability: 0.371273010969162, Average adversary probability: 0.06096094101667404\n",
      "\n",
      "\n"
     ]
    },
    {
     "name": "stderr",
     "output_type": "stream",
     "text": [
      "C&W L_2: 100%|██████████| 1/1 [01:43<00:00, 103.94s/it]\n",
      "C&W L_2: 100%|██████████| 1/1 [01:45<00:00, 105.47s/it]\n",
      "C&W L_2: 100%|██████████| 1/1 [01:43<00:00, 103.96s/it]\n",
      "C&W L_2: 100%|██████████| 1/1 [01:41<00:00, 101.91s/it]\n",
      "C&W L_2: 100%|██████████| 1/1 [01:42<00:00, 102.04s/it]\n"
     ]
    },
    {
     "name": "stdout",
     "output_type": "stream",
     "text": [
      "===================================================================================================================================================\n",
      "\n",
      "Model: resnet50, Correct class: wallaby, Adversarial class: spiny lobster\n",
      "\n",
      "Average time: 103.77791666984558, Average normal probability: 0.9998335838317871, Average adversary probability: 0.455068439245224\n",
      "\n",
      "\n"
     ]
    }
   ],
   "source": [
    "classifier_tab = [mobile_classifier, vgg16_classifier, resnet_classifier]\n",
    "classifier_names = [\"mobile_v3\", \"vgg16\", \"resnet50\"]\n",
    "iter = 5\n",
    "norm_probs = np.zeros(iter)\n",
    "norm_ids = np.zeros(iter)\n",
    "adv_probs = np.zeros(iter)\n",
    "adv_ids = np.zeros(iter)\n",
    "times = np.zeros(iter)\n",
    "\n",
    "target = np.zeros((1, len(imagenet_labels)))\n",
    "target[0, 123] = 1\n",
    "\n",
    "\n",
    "for classifier, name in zip(classifier_tab, classifier_names):\n",
    "    \n",
    "    attack = CarliniL2Method(classifier=classifier, targeted=True, learning_rate=0.1)\n",
    "    \n",
    "    for i in range(iter):\n",
    "        norm, adv, att_time = art_attack(attack, img=art_img_np, classifier=classifier, targeted=True, target = target)\n",
    "        norm_id, norm_prob = convert2label(norm)\n",
    "        adv_id, adv_prob = convert2label(adv)\n",
    "        \n",
    "        times[i] = att_time\n",
    "        norm_ids[i], norm_probs[i] = norm_id, norm_prob\n",
    "        adv_ids[i], adv_probs[i] = adv_id, adv_prob\n",
    "    \n",
    "    if (not all(id == norm_ids[0] for id in norm_ids)) or (not all(id == adv_ids[0] for id in adv_ids)):\n",
    "        print(\"ERROR: Not all ids in table are the same\")\n",
    "        break\n",
    "    \n",
    "    print(\"===================================================================================================================================================\\n\")\n",
    "    print(f\"Model: {name}, Correct class: {imagenet_labels[int(norm_ids[0])]}, Adversarial class: {imagenet_labels[int(adv_ids[0])]}\\n\")\n",
    "    print(f\"Average time: {np.average(times)}, Average normal probability: {np.average(norm_probs)}, Average adversary probability: {np.average(adv_probs)}\")\n",
    "    print(\"\\n\")\n",
    "    "
   ]
  },
  {
   "cell_type": "markdown",
   "metadata": {},
   "source": [
    "#### PGD"
   ]
  },
  {
   "cell_type": "code",
   "execution_count": 8,
   "metadata": {},
   "outputs": [
    {
     "name": "stderr",
     "output_type": "stream",
     "text": [
      "                                                            \r"
     ]
    },
    {
     "name": "stdout",
     "output_type": "stream",
     "text": [
      "===================================================================================================================================================\n",
      "\n",
      "Model: mobile_v3, Correct class: wallaby, Adversarial class: spiny lobster\n",
      "\n",
      "Average time: 4.578286123275757, Average normal probability: 0.2399435043334961, Average adversary probability: 0.9999837875366211\n",
      "\n",
      "\n"
     ]
    },
    {
     "name": "stderr",
     "output_type": "stream",
     "text": [
      "                                                            \r"
     ]
    },
    {
     "name": "stdout",
     "output_type": "stream",
     "text": [
      "===================================================================================================================================================\n",
      "\n",
      "Model: vgg16, Correct class: dingo, Adversarial class: spiny lobster\n",
      "\n",
      "Average time: 65.88371543884277, Average normal probability: 0.371273010969162, Average adversary probability: 0.9997336268424988\n",
      "\n",
      "\n"
     ]
    },
    {
     "name": "stderr",
     "output_type": "stream",
     "text": [
      "                                                            \r"
     ]
    },
    {
     "name": "stdout",
     "output_type": "stream",
     "text": [
      "===================================================================================================================================================\n",
      "\n",
      "Model: resnet50, Correct class: wallaby, Adversarial class: spiny lobster\n",
      "\n",
      "Average time: 34.450180530548096, Average normal probability: 0.9998335838317871, Average adversary probability: 1.0\n",
      "\n",
      "\n"
     ]
    }
   ],
   "source": [
    "classifier_tab = [mobile_classifier, vgg16_classifier, resnet_classifier]\n",
    "classifier_names = [\"mobile_v3\", \"vgg16\", \"resnet50\"]\n",
    "iter = 5\n",
    "norm_probs = np.zeros(iter)\n",
    "norm_ids = np.zeros(iter)\n",
    "adv_probs = np.zeros(iter)\n",
    "adv_ids = np.zeros(iter)\n",
    "times = np.zeros(iter)\n",
    "\n",
    "target = np.zeros((1, len(imagenet_labels)))\n",
    "target[0, 123] = 1\n",
    "\n",
    "\n",
    "for classifier, name in zip(classifier_tab, classifier_names):\n",
    "    \n",
    "    attack = ProjectedGradientDescent(estimator=classifier, norm=np.inf, targeted=True)\n",
    "    \n",
    "    for i in range(iter):\n",
    "        norm, adv, att_time = art_attack(attack, img=art_img_np, classifier=classifier, targeted=True, target = target)\n",
    "        norm_id, norm_prob = convert2label(norm)\n",
    "        adv_id, adv_prob = convert2label(adv)\n",
    "        \n",
    "        times[i] = att_time\n",
    "        norm_ids[i], norm_probs[i] = norm_id, norm_prob\n",
    "        adv_ids[i], adv_probs[i] = adv_id, adv_prob\n",
    "    \n",
    "    if (not all(id == norm_ids[0] for id in norm_ids)) or (not all(id == adv_ids[0] for id in adv_ids)):\n",
    "        print(\"ERROR: Not all ids in table are the same\")\n",
    "        break\n",
    "    \n",
    "    print(\"===================================================================================================================================================\\n\")\n",
    "    print(f\"Model: {name}, Correct class: {imagenet_labels[int(norm_ids[0])]}, Adversarial class: {imagenet_labels[int(adv_ids[0])]}\\n\")\n",
    "    print(f\"Average time: {np.average(times)}, Average normal probability: {np.average(norm_probs)}, Average adversary probability: {np.average(adv_probs)}\")\n",
    "    print(\"\\n\")"
   ]
  },
  {
   "cell_type": "markdown",
   "metadata": {},
   "source": [
    "#### Jacob Saliency Map Attack (JSMA)"
   ]
  },
  {
   "cell_type": "code",
   "execution_count": 10,
   "metadata": {},
   "outputs": [
    {
     "ename": "KeyboardInterrupt",
     "evalue": "",
     "output_type": "error",
     "traceback": [
      "\u001b[1;31m---------------------------------------------------------------------------\u001b[0m",
      "\u001b[1;31mKeyboardInterrupt\u001b[0m                         Traceback (most recent call last)",
      "Cell \u001b[1;32mIn[10], line 1\u001b[0m\n\u001b[1;32m----> 1\u001b[0m classifier_tab \u001b[38;5;241m=\u001b[39m [\u001b[43mmobile_classifier\u001b[49m, vgg16_classifier, resnet_classifier]\n\u001b[0;32m      2\u001b[0m classifier_names \u001b[38;5;241m=\u001b[39m [\u001b[38;5;124m\"\u001b[39m\u001b[38;5;124mmobile_v3\u001b[39m\u001b[38;5;124m\"\u001b[39m, \u001b[38;5;124m\"\u001b[39m\u001b[38;5;124mvgg16\u001b[39m\u001b[38;5;124m\"\u001b[39m, \u001b[38;5;124m\"\u001b[39m\u001b[38;5;124mresnet50\u001b[39m\u001b[38;5;124m\"\u001b[39m]\n\u001b[0;32m      3\u001b[0m \u001b[38;5;28miter\u001b[39m \u001b[38;5;241m=\u001b[39m \u001b[38;5;241m5\u001b[39m\n",
      "Cell \u001b[1;32mIn[10], line 1\u001b[0m\n\u001b[1;32m----> 1\u001b[0m classifier_tab \u001b[38;5;241m=\u001b[39m [\u001b[43mmobile_classifier\u001b[49m, vgg16_classifier, resnet_classifier]\n\u001b[0;32m      2\u001b[0m classifier_names \u001b[38;5;241m=\u001b[39m [\u001b[38;5;124m\"\u001b[39m\u001b[38;5;124mmobile_v3\u001b[39m\u001b[38;5;124m\"\u001b[39m, \u001b[38;5;124m\"\u001b[39m\u001b[38;5;124mvgg16\u001b[39m\u001b[38;5;124m\"\u001b[39m, \u001b[38;5;124m\"\u001b[39m\u001b[38;5;124mresnet50\u001b[39m\u001b[38;5;124m\"\u001b[39m]\n\u001b[0;32m      3\u001b[0m \u001b[38;5;28miter\u001b[39m \u001b[38;5;241m=\u001b[39m \u001b[38;5;241m5\u001b[39m\n",
      "File \u001b[1;32m_pydevd_bundle\\\\pydevd_cython.pyx:1697\u001b[0m, in \u001b[0;36m_pydevd_bundle.pydevd_cython.SafeCallWrapper.__call__\u001b[1;34m()\u001b[0m\n",
      "File \u001b[1;32m_pydevd_bundle\\\\pydevd_cython.pyx:634\u001b[0m, in \u001b[0;36m_pydevd_bundle.pydevd_cython.PyDBFrame.trace_dispatch\u001b[1;34m()\u001b[0m\n",
      "File \u001b[1;32m_pydevd_bundle\\\\pydevd_cython.pyx:1112\u001b[0m, in \u001b[0;36m_pydevd_bundle.pydevd_cython.PyDBFrame.trace_dispatch\u001b[1;34m()\u001b[0m\n",
      "File \u001b[1;32m_pydevd_bundle\\\\pydevd_cython.pyx:1090\u001b[0m, in \u001b[0;36m_pydevd_bundle.pydevd_cython.PyDBFrame.trace_dispatch\u001b[1;34m()\u001b[0m\n",
      "File \u001b[1;32m_pydevd_bundle\\\\pydevd_cython.pyx:494\u001b[0m, in \u001b[0;36m_pydevd_bundle.pydevd_cython.PyDBFrame.do_wait_suspend\u001b[1;34m()\u001b[0m\n",
      "File \u001b[1;32mc:\\Users\\Wojciech\\Desktop\\ML-Advanced\\Benchmark-of-Methods-for-Adversarial-Attacks\\venv\\lib\\site-packages\\debugpy\\_vendored\\pydevd\\pydevd.py:2185\u001b[0m, in \u001b[0;36mPyDB.do_wait_suspend\u001b[1;34m(self, thread, frame, event, arg, exception_type)\u001b[0m\n\u001b[0;32m   2182\u001b[0m             from_this_thread\u001b[38;5;241m.\u001b[39mappend(frame_custom_thread_id)\n\u001b[0;32m   2184\u001b[0m     \u001b[38;5;28;01mwith\u001b[39;00m \u001b[38;5;28mself\u001b[39m\u001b[38;5;241m.\u001b[39m_threads_suspended_single_notification\u001b[38;5;241m.\u001b[39mnotify_thread_suspended(thread_id, thread, stop_reason):\n\u001b[1;32m-> 2185\u001b[0m         keep_suspended \u001b[38;5;241m=\u001b[39m \u001b[38;5;28;43mself\u001b[39;49m\u001b[38;5;241;43m.\u001b[39;49m\u001b[43m_do_wait_suspend\u001b[49m\u001b[43m(\u001b[49m\u001b[43mthread\u001b[49m\u001b[43m,\u001b[49m\u001b[43m \u001b[49m\u001b[43mframe\u001b[49m\u001b[43m,\u001b[49m\u001b[43m \u001b[49m\u001b[43mevent\u001b[49m\u001b[43m,\u001b[49m\u001b[43m \u001b[49m\u001b[43marg\u001b[49m\u001b[43m,\u001b[49m\u001b[43m \u001b[49m\u001b[43mtrace_suspend_type\u001b[49m\u001b[43m,\u001b[49m\u001b[43m \u001b[49m\u001b[43mfrom_this_thread\u001b[49m\u001b[43m,\u001b[49m\u001b[43m \u001b[49m\u001b[43mframes_tracker\u001b[49m\u001b[43m)\u001b[49m\n\u001b[0;32m   2187\u001b[0m frames_list \u001b[38;5;241m=\u001b[39m \u001b[38;5;28;01mNone\u001b[39;00m\n\u001b[0;32m   2189\u001b[0m \u001b[38;5;28;01mif\u001b[39;00m keep_suspended:\n\u001b[0;32m   2190\u001b[0m     \u001b[38;5;66;03m# This means that we should pause again after a set next statement.\u001b[39;00m\n",
      "File \u001b[1;32mc:\\Users\\Wojciech\\Desktop\\ML-Advanced\\Benchmark-of-Methods-for-Adversarial-Attacks\\venv\\lib\\site-packages\\debugpy\\_vendored\\pydevd\\pydevd.py:2254\u001b[0m, in \u001b[0;36mPyDB._do_wait_suspend\u001b[1;34m(self, thread, frame, event, arg, trace_suspend_type, from_this_thread, frames_tracker)\u001b[0m\n\u001b[0;32m   2251\u001b[0m                 queue\u001b[38;5;241m.\u001b[39mput(internal_cmd)\n\u001b[0;32m   2252\u001b[0m                 wait_timeout \u001b[38;5;241m=\u001b[39m TIMEOUT_FAST\n\u001b[1;32m-> 2254\u001b[0m         \u001b[43mnotify_event\u001b[49m\u001b[38;5;241;43m.\u001b[39;49m\u001b[43mwait\u001b[49m\u001b[43m(\u001b[49m\u001b[43mwait_timeout\u001b[49m\u001b[43m)\u001b[49m\n\u001b[0;32m   2255\u001b[0m         notify_event\u001b[38;5;241m.\u001b[39mclear()\n\u001b[0;32m   2257\u001b[0m \u001b[38;5;28;01mfinally\u001b[39;00m:\n",
      "File \u001b[1;32m~\\AppData\\Local\\Programs\\Python\\Python310\\lib\\threading.py:607\u001b[0m, in \u001b[0;36mEvent.wait\u001b[1;34m(self, timeout)\u001b[0m\n\u001b[0;32m    605\u001b[0m signaled \u001b[38;5;241m=\u001b[39m \u001b[38;5;28mself\u001b[39m\u001b[38;5;241m.\u001b[39m_flag\n\u001b[0;32m    606\u001b[0m \u001b[38;5;28;01mif\u001b[39;00m \u001b[38;5;129;01mnot\u001b[39;00m signaled:\n\u001b[1;32m--> 607\u001b[0m     signaled \u001b[38;5;241m=\u001b[39m \u001b[38;5;28;43mself\u001b[39;49m\u001b[38;5;241;43m.\u001b[39;49m\u001b[43m_cond\u001b[49m\u001b[38;5;241;43m.\u001b[39;49m\u001b[43mwait\u001b[49m\u001b[43m(\u001b[49m\u001b[43mtimeout\u001b[49m\u001b[43m)\u001b[49m\n\u001b[0;32m    608\u001b[0m \u001b[38;5;28;01mreturn\u001b[39;00m signaled\n",
      "File \u001b[1;32m~\\AppData\\Local\\Programs\\Python\\Python310\\lib\\threading.py:324\u001b[0m, in \u001b[0;36mCondition.wait\u001b[1;34m(self, timeout)\u001b[0m\n\u001b[0;32m    322\u001b[0m \u001b[38;5;28;01melse\u001b[39;00m:\n\u001b[0;32m    323\u001b[0m     \u001b[38;5;28;01mif\u001b[39;00m timeout \u001b[38;5;241m>\u001b[39m \u001b[38;5;241m0\u001b[39m:\n\u001b[1;32m--> 324\u001b[0m         gotit \u001b[38;5;241m=\u001b[39m \u001b[43mwaiter\u001b[49m\u001b[38;5;241;43m.\u001b[39;49m\u001b[43macquire\u001b[49m\u001b[43m(\u001b[49m\u001b[38;5;28;43;01mTrue\u001b[39;49;00m\u001b[43m,\u001b[49m\u001b[43m \u001b[49m\u001b[43mtimeout\u001b[49m\u001b[43m)\u001b[49m\n\u001b[0;32m    325\u001b[0m     \u001b[38;5;28;01melse\u001b[39;00m:\n\u001b[0;32m    326\u001b[0m         gotit \u001b[38;5;241m=\u001b[39m waiter\u001b[38;5;241m.\u001b[39macquire(\u001b[38;5;28;01mFalse\u001b[39;00m)\n",
      "\u001b[1;31mKeyboardInterrupt\u001b[0m: "
     ]
    }
   ],
   "source": [
    "classifier_tab = [mobile_classifier, vgg16_classifier, resnet_classifier]\n",
    "classifier_names = [\"mobile_v3\", \"vgg16\", \"resnet50\"]\n",
    "iter = 5\n",
    "norm_probs = np.zeros(iter)\n",
    "norm_ids = np.zeros(iter)\n",
    "adv_probs = np.zeros(iter)\n",
    "adv_ids = np.zeros(iter)\n",
    "times = np.zeros(iter)\n",
    "\n",
    "target = np.zeros((1, len(imagenet_labels)))\n",
    "target[0, 123] = 1\n",
    "\n",
    "\n",
    "for classifier, name in zip(classifier_tab, classifier_names):\n",
    "    \n",
    "    attack = SaliencyMapMethod(classifier=classifier, theta=0.3, gamma=0.05)\n",
    "    \n",
    "    for i in range(iter):\n",
    "        norm, adv, att_time = art_attack(attack, img=art_img_np, classifier=classifier, targeted=True, target = target)\n",
    "        norm_id, norm_prob = convert2label(norm)\n",
    "        adv_id, adv_prob = convert2label(adv)\n",
    "        \n",
    "        times[i] = att_time\n",
    "        norm_ids[i], norm_probs[i] = norm_id, norm_prob\n",
    "        adv_ids[i], adv_probs[i] = adv_id, adv_prob\n",
    "    \n",
    "    if (not all(id == norm_ids[0] for id in norm_ids)) or (not all(id == adv_ids[0] for id in adv_ids)):\n",
    "        print(\"ERROR: Not all ids in table are the same\")\n",
    "        break\n",
    "    \n",
    "    print(\"===================================================================================================================================================\\n\")\n",
    "    print(f\"Model: {name}, Correct class: {imagenet_labels[int(norm_ids[0])]}, Adversarial class: {imagenet_labels[int(adv_ids[0])]}\\n\")\n",
    "    print(f\"Average time: {np.average(times)}, Average normal probability: {np.average(norm_probs)}, Average adversary probability: {np.average(adv_probs)}\")\n",
    "    print(\"\\n\")"
   ]
  },
  {
   "cell_type": "markdown",
   "metadata": {},
   "source": [
    "### Non Targeted Attacks"
   ]
  },
  {
   "cell_type": "markdown",
   "metadata": {},
   "source": [
    "#### ART"
   ]
  },
  {
   "cell_type": "code",
   "execution_count": 10,
   "metadata": {},
   "outputs": [
    {
     "name": "stderr",
     "output_type": "stream",
     "text": [
      "DeepFool: 100%|██████████| 1/1 [00:00<00:00,  1.11it/s]\n",
      "DeepFool: 100%|██████████| 1/1 [00:00<00:00,  1.07it/s]\n",
      "DeepFool: 100%|██████████| 1/1 [00:00<00:00,  1.14it/s]\n",
      "DeepFool: 100%|██████████| 1/1 [00:00<00:00,  1.16it/s]\n",
      "DeepFool: 100%|██████████| 1/1 [00:00<00:00,  1.11it/s]\n"
     ]
    },
    {
     "name": "stdout",
     "output_type": "stream",
     "text": [
      "===================================================================================================================================================\n",
      "\n",
      "Model: mobile_v3, Correct class: wallaby, Adversarial class: coyote\n",
      "\n",
      "Average time: 0.9639941215515136, Average normal probability: 0.2399435043334961, Average adversary probability: 0.15309089422225952\n",
      "\n",
      "\n"
     ]
    },
    {
     "name": "stderr",
     "output_type": "stream",
     "text": [
      "DeepFool: 100%|██████████| 1/1 [00:10<00:00, 10.90s/it]\n",
      "DeepFool: 100%|██████████| 1/1 [00:10<00:00, 10.96s/it]\n",
      "DeepFool: 100%|██████████| 1/1 [00:10<00:00, 10.16s/it]\n",
      "DeepFool: 100%|██████████| 1/1 [00:11<00:00, 11.11s/it]\n",
      "DeepFool: 100%|██████████| 1/1 [00:10<00:00, 10.32s/it]\n"
     ]
    },
    {
     "name": "stdout",
     "output_type": "stream",
     "text": [
      "===================================================================================================================================================\n",
      "\n",
      "Model: vgg16, Correct class: dingo, Adversarial class: hare\n",
      "\n",
      "Average time: 11.292233276367188, Average normal probability: 0.371273010969162, Average adversary probability: 0.926469624042511\n",
      "\n",
      "\n"
     ]
    },
    {
     "name": "stderr",
     "output_type": "stream",
     "text": [
      "DeepFool: 100%|██████████| 1/1 [00:15<00:00, 15.67s/it]\n",
      "DeepFool: 100%|██████████| 1/1 [00:14<00:00, 14.07s/it]\n",
      "DeepFool: 100%|██████████| 1/1 [00:14<00:00, 14.95s/it]\n",
      "DeepFool: 100%|██████████| 1/1 [00:13<00:00, 13.59s/it]\n",
      "DeepFool: 100%|██████████| 1/1 [00:13<00:00, 13.32s/it]\n"
     ]
    },
    {
     "name": "stdout",
     "output_type": "stream",
     "text": [
      "===================================================================================================================================================\n",
      "\n",
      "Model: resnet50, Correct class: wallaby, Adversarial class: kit fox\n",
      "\n",
      "Average time: 14.658172750473023, Average normal probability: 0.9998335838317871, Average adversary probability: 0.5609124898910522\n",
      "\n",
      "\n"
     ]
    }
   ],
   "source": [
    "classifier_tab = [mobile_classifier, vgg16_classifier, resnet_classifier]\n",
    "classifier_names = [\"mobile_v3\", \"vgg16\", \"resnet50\"]\n",
    "iter = 5\n",
    "norm_probs = np.zeros(iter)\n",
    "norm_ids = np.zeros(iter)\n",
    "adv_probs = np.zeros(iter)\n",
    "adv_ids = np.zeros(iter)\n",
    "times = np.zeros(iter)\n",
    "\n",
    "\n",
    "for classifier, name in zip(classifier_tab, classifier_names):\n",
    "    \n",
    "    attack = DeepFool(classifier=classifier)\n",
    "    \n",
    "    for i in range(iter):\n",
    "        norm, adv, att_time = art_attack(attack, img=art_img_np, classifier=classifier)\n",
    "        norm_id, norm_prob = convert2label(norm)\n",
    "        adv_id, adv_prob = convert2label(adv)\n",
    "        \n",
    "        times[i] = att_time\n",
    "        norm_ids[i], norm_probs[i] = norm_id, norm_prob\n",
    "        adv_ids[i], adv_probs[i] = adv_id, adv_prob\n",
    "    \n",
    "    if (not all(id == norm_ids[0] for id in norm_ids)) or (not all(id == adv_ids[0] for id in adv_ids)):\n",
    "        print(\"ERROR: Not all ids in table are the same\")\n",
    "        break\n",
    "    \n",
    "    print(\"===================================================================================================================================================\\n\")\n",
    "    print(f\"Model: {name}, Correct class: {imagenet_labels[int(norm_ids[0])]}, Adversarial class: {imagenet_labels[int(adv_ids[0])]}\\n\")\n",
    "    print(f\"Average time: {np.average(times)}, Average normal probability: {np.average(norm_probs)}, Average adversary probability: {np.average(adv_probs)}\")\n",
    "    print(\"\\n\")"
   ]
  },
  {
   "cell_type": "code",
   "execution_count": null,
   "metadata": {},
   "outputs": [
    {
     "name": "stderr",
     "output_type": "stream",
     "text": [
      "HopSkipJump: 100%|██████████| 1/1 [00:23<00:00, 23.43s/it]\n",
      "HopSkipJump: 100%|██████████| 1/1 [00:23<00:00, 23.77s/it]\n",
      "HopSkipJump: 100%|██████████| 1/1 [00:24<00:00, 24.24s/it]\n",
      "HopSkipJump: 100%|██████████| 1/1 [00:24<00:00, 24.40s/it]\n",
      "HopSkipJump: 100%|██████████| 1/1 [00:23<00:00, 23.61s/it]\n"
     ]
    },
    {
     "name": "stdout",
     "output_type": "stream",
     "text": [
      "===================================================================================================================================================\n",
      "\n",
      "Model: mobile_v3, Correct class: wallaby, Adversarial class: coyote\n",
      "\n",
      "Average time: 23.987810611724854, Average normal probability: 0.23994162678718567, Average adversary probability: 0.18785407841205598\n",
      "\n",
      "\n"
     ]
    },
    {
     "name": "stderr",
     "output_type": "stream",
     "text": [
      "HopSkipJump: 100%|██████████| 1/1 [02:58<00:00, 178.93s/it]\n",
      "HopSkipJump: 100%|██████████| 1/1 [03:05<00:00, 185.48s/it]\n",
      "HopSkipJump: 100%|██████████| 1/1 [03:02<00:00, 182.93s/it]\n",
      "HopSkipJump: 100%|██████████| 1/1 [03:05<00:00, 185.52s/it]\n",
      "HopSkipJump: 100%|██████████| 1/1 [03:03<00:00, 183.26s/it]\n"
     ]
    },
    {
     "name": "stdout",
     "output_type": "stream",
     "text": [
      "ERROR: Not all ids in table are the same\n"
     ]
    }
   ],
   "source": [
    "mobile_model_double = DoubleModelTimmWrapper(mobile_model)\n",
    "vgg16_model_double = DoubleModelTimmWrapper(vgg16_model)\n",
    "\n",
    "mobile_classifier_double = PyTorchClassifier(\n",
    "    model = mobile_model_double,\n",
    "    loss = torch.nn.CrossEntropyLoss(),\n",
    "    input_shape=(3,224,224),\n",
    "    nb_classes=len(imagenet_labels),\n",
    "    optimizer=None,\n",
    "    clip_values=(0,1)\n",
    ")\n",
    "\n",
    "vgg16_classifier_double = PyTorchClassifier(\n",
    "    model = vgg16_model_double,\n",
    "    loss = torch.nn.CrossEntropyLoss(),\n",
    "    input_shape=(3,224,224),\n",
    "    nb_classes=len(imagenet_labels),\n",
    "    optimizer=None,\n",
    "    clip_values=(0,1)\n",
    ")\n",
    "\n",
    "classifier_tab = [mobile_classifier_double, resnet_classifier, vgg16_classifier_double]\n",
    "classifier_names = [\"mobile_v3\", \"resnet50\", \"vgg16\"]\n",
    "iter = 5\n",
    "norm_probs = np.zeros(iter)\n",
    "norm_ids = np.zeros(iter)\n",
    "adv_probs = np.zeros(iter)\n",
    "adv_ids = np.zeros(iter)\n",
    "times = np.zeros(iter)\n",
    "\n",
    "\n",
    "for classifier, name in zip(classifier_tab, classifier_names):\n",
    "    \n",
    "    attack = HopSkipJump(classifier=classifier, norm=2, max_iter=10)\n",
    "    \n",
    "    for i in range(iter):\n",
    "        norm, adv, att_time = art_attack(attack, img=art_img_np, classifier=classifier)\n",
    "        norm_id, norm_prob = convert2label(norm)\n",
    "        adv_id, adv_prob = convert2label(adv)\n",
    "        \n",
    "        times[i] = att_time\n",
    "        norm_ids[i], norm_probs[i] = norm_id, norm_prob\n",
    "        adv_ids[i], adv_probs[i] = adv_id, adv_prob\n",
    "    \n",
    "    # think of a way to list all guessed classes from adversary\n",
    "    if (not all(id == norm_ids[0] for id in norm_ids)) or (not all(id == adv_ids[0] for id in adv_ids)):\n",
    "        print(\"ERROR: Not all ids in table are the same\")\n",
    "        break\n",
    "    \n",
    "    print(\"===================================================================================================================================================\\n\")\n",
    "    print(f\"Model: {name}, Correct class: {imagenet_labels[int(norm_ids[0])]}, Adversarial class: {imagenet_labels[int(adv_ids[0])]}\\n\")\n",
    "    print(f\"Average time: {np.average(times)}, Average normal probability: {np.average(norm_probs)}, Average adversary probability: {np.average(adv_probs)}\")\n",
    "    print(\"\\n\")"
   ]
  },
  {
   "cell_type": "code",
   "execution_count": 6,
   "metadata": {},
   "outputs": [
    {
     "name": "stderr",
     "output_type": "stream",
     "text": [
      "EAD: 100%|██████████| 1/1 [00:39<00:00, 39.76s/it]\n",
      "EAD: 100%|██████████| 1/1 [00:39<00:00, 39.21s/it]\n",
      "EAD: 100%|██████████| 1/1 [00:37<00:00, 37.05s/it]\n",
      "EAD: 100%|██████████| 1/1 [00:36<00:00, 36.19s/it]\n",
      "EAD: 100%|██████████| 1/1 [00:38<00:00, 38.28s/it]\n"
     ]
    },
    {
     "name": "stdout",
     "output_type": "stream",
     "text": [
      "===================================================================================================================================================\n",
      "\n",
      "Model: mobile_v3, Correct class: wallaby, Adversarial class: coyote\n",
      "\n",
      "Average time: 38.520414638519284, Average normal probability: 0.23994162678718567, Average adversary probability: 0.18650758266448975\n",
      "\n",
      "\n"
     ]
    },
    {
     "name": "stderr",
     "output_type": "stream",
     "text": [
      "EAD: 100%|██████████| 1/1 [04:08<00:00, 248.88s/it]\n",
      "EAD: 100%|██████████| 1/1 [04:07<00:00, 247.10s/it]\n",
      "EAD: 100%|██████████| 1/1 [04:07<00:00, 247.46s/it]\n",
      "EAD: 100%|██████████| 1/1 [04:06<00:00, 246.01s/it]\n",
      "EAD: 100%|██████████| 1/1 [04:03<00:00, 243.95s/it]\n"
     ]
    },
    {
     "name": "stdout",
     "output_type": "stream",
     "text": [
      "===================================================================================================================================================\n",
      "\n",
      "Model: vgg16, Correct class: dingo, Adversarial class: hare\n",
      "\n",
      "Average time: 248.32443704605103, Average normal probability: 0.3712729513645172, Average adversary probability: 0.23584821820259094\n",
      "\n",
      "\n"
     ]
    },
    {
     "name": "stderr",
     "output_type": "stream",
     "text": [
      "EAD: 100%|██████████| 1/1 [01:07<00:00, 67.20s/it]\n",
      "EAD: 100%|██████████| 1/1 [01:05<00:00, 65.46s/it]\n",
      "EAD: 100%|██████████| 1/1 [01:05<00:00, 65.26s/it]\n",
      "EAD: 100%|██████████| 1/1 [01:05<00:00, 65.07s/it]\n",
      "EAD: 100%|██████████| 1/1 [01:05<00:00, 65.18s/it]\n"
     ]
    },
    {
     "name": "stdout",
     "output_type": "stream",
     "text": [
      "===================================================================================================================================================\n",
      "\n",
      "Model: resnet50, Correct class: wallaby, Adversarial class: kit fox\n",
      "\n",
      "Average time: 66.11154022216797, Average normal probability: 0.9998335838317871, Average adversary probability: 0.4972759783267975\n",
      "\n",
      "\n"
     ]
    }
   ],
   "source": [
    "classifier_tab = [mobile_classifier_double, vgg16_classifier_double, resnet_classifier]\n",
    "classifier_names = [\"mobile_v3\", \"vgg16\", \"resnet50\"]\n",
    "iter = 5\n",
    "norm_probs = np.zeros(iter)\n",
    "norm_ids = np.zeros(iter)\n",
    "adv_probs = np.zeros(iter)\n",
    "adv_ids = np.zeros(iter)\n",
    "times = np.zeros(iter)\n",
    "\n",
    "\n",
    "for classifier, name in zip(classifier_tab, classifier_names):\n",
    "    \n",
    "    attack = ElasticNet(classifier=classifier, max_iter=10)\n",
    "    \n",
    "    for i in range(iter):\n",
    "        norm, adv, att_time = art_attack(attack, img=art_img_np, classifier=classifier)\n",
    "        norm_id, norm_prob = convert2label(norm)\n",
    "        adv_id, adv_prob = convert2label(adv)\n",
    "        \n",
    "        times[i] = att_time\n",
    "        norm_ids[i], norm_probs[i] = norm_id, norm_prob\n",
    "        adv_ids[i], adv_probs[i] = adv_id, adv_prob\n",
    "    \n",
    "    if (not all(id == norm_ids[0] for id in norm_ids)) or (not all(id == adv_ids[0] for id in adv_ids)):\n",
    "        print(\"ERROR: Not all ids in table are the same\")\n",
    "        break\n",
    "    \n",
    "    print(\"===================================================================================================================================================\\n\")\n",
    "    print(f\"Model: {name}, Correct class: {imagenet_labels[int(norm_ids[0])]}, Adversarial class: {imagenet_labels[int(adv_ids[0])]}\\n\")\n",
    "    print(f\"Average time: {np.average(times)}, Average normal probability: {np.average(norm_probs)}, Average adversary probability: {np.average(adv_probs)}\")\n",
    "    print(\"\\n\")"
   ]
  }
 ],
 "metadata": {
  "kernelspec": {
   "display_name": "venv",
   "language": "python",
   "name": "python3"
  },
  "language_info": {
   "codemirror_mode": {
    "name": "ipython",
    "version": 3
   },
   "file_extension": ".py",
   "mimetype": "text/x-python",
   "name": "python",
   "nbconvert_exporter": "python",
   "pygments_lexer": "ipython3",
   "version": "3.10.6"
  }
 },
 "nbformat": 4,
 "nbformat_minor": 2
}
