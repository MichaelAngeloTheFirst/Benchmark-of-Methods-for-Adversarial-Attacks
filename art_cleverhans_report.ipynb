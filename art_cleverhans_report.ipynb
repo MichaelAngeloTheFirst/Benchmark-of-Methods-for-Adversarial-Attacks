{
 "cells": [
  {
   "cell_type": "markdown",
   "metadata": {},
   "source": [
    "### Setup"
   ]
  },
  {
   "cell_type": "code",
   "execution_count": 9,
   "metadata": {},
   "outputs": [],
   "source": [
    "import torch\n",
    "import numpy as np\n",
    "import timm\n",
    "import torchvision as tvision\n",
    "import tensorflow as tf\n",
    "import requests\n",
    "\n",
    "from PIL import Image\n",
    "from urllib.request import urlopen\n",
    "from transformers import AutoImageProcessor, ResNetForImageClassification\n",
    "\n",
    "from art.estimators.classification import PyTorchClassifier\n",
    "from art.attacks.evasion import (CarliniL2Method, ProjectedGradientDescent, SaliencyMapMethod,\n",
    "                                 ElasticNet, DeepFool, HopSkipJump)\n",
    "\n",
    "from cleverhans.torch.attacks.projected_gradient_descent import projected_gradient_descent\n",
    "from cleverhans.torch.attacks.carlini_wagner_l2 import carlini_wagner_l2\n",
    "\n",
    "class DoubleModelWrapper(torch.nn.Module):\n",
    "    def __init__(self, model):\n",
    "        super().__init__()\n",
    "        self.model = model.to(dtype=torch.double).cuda()\n",
    "\n",
    "    def forward(self, x):\n",
    "        x = x.to(dtype=torch.double)\n",
    "        outputs = self.model(x)\n",
    "        logits = outputs.logits.to(dtype=torch.double)\n",
    "        return logits\n",
    "    \n",
    "class DoubleModelTimmWrapper(torch.nn.Module):\n",
    "    def __init__(self, model):\n",
    "        super().__init__()\n",
    "        self.model = model.to(dtype=torch.double)\n",
    "\n",
    "    def forward(self, x):\n",
    "        x = x.to(dtype=torch.double)\n",
    "        outputs = self.model(x)\n",
    "        return outputs.to(dtype=torch.double)\n",
    "\n",
    "\n",
    "# Setting up models\n",
    "\n",
    "mobile_model = timm.create_model('tf_mobilenetv3_large_minimal_100.in1k', pretrained=True)\n",
    "mobile_model = mobile_model.cuda().eval()\n",
    "\n",
    "mobile_data_config = timm.data.resolve_model_data_config(mobile_model)\n",
    "mobile_transforms = timm.data.create_transform(**mobile_data_config, is_training=False)\n",
    "\n",
    "vgg16_model = timm.create_model('vgg16.tv_in1k', pretrained=True)\n",
    "vgg16_model = vgg16_model.cuda().eval()\n",
    "\n",
    "vgg16_data_config = timm.data.resolve_model_data_config(vgg16_model)\n",
    "vgg16_transforms = timm.data.create_transform(**vgg16_data_config, is_training=False)\n",
    "\n",
    "processor = AutoImageProcessor.from_pretrained(\"microsoft/resnet-50\")\n",
    "hf_resnet = ResNetForImageClassification.from_pretrained(\"microsoft/resnet-50\")\n",
    "resnet_model = DoubleModelWrapper(hf_resnet)\n",
    "\n",
    "\n",
    "# Downloading labels for ImageNet1k\n",
    "url = \"https://raw.githubusercontent.com/anishathalye/imagenet-simple-labels/master/imagenet-simple-labels.json\"\n",
    "imagenet_labels = requests.get(url).json()\n",
    "\n",
    "# prepare image\n",
    "image = Image.open(urlopen(\"https://transforms.stlzoo.org/production/animals/red-kangaroo-02-01.jpg?w=1200&h=1200&auto=compress%2Cformat&fit=crop&dm=1654795233&s=5f137aa9a410a7ea3386c6972265111d\"))\n",
    "\n",
    "img_transforms = tvision.transforms.Compose([\n",
    "    tvision.transforms.Resize((224, 224)),\n",
    "    tvision.transforms.ToTensor()\n",
    "])\n",
    "\n",
    "clever_img_torch = img_transforms(image).unsqueeze(0)\n",
    "clever_img_tf = tf.convert_to_tensor(image, dtype=tf.float32)\n",
    "art_img_np = clever_img_torch.numpy()"
   ]
  },
  {
   "cell_type": "code",
   "execution_count": 20,
   "metadata": {},
   "outputs": [
    {
     "name": "stdout",
     "output_type": "stream",
     "text": [
      "True\n"
     ]
    }
   ],
   "source": [
    "print(torch.cuda.is_available())"
   ]
  },
  {
   "cell_type": "markdown",
   "metadata": {},
   "source": [
    "## Directed Attacks"
   ]
  },
  {
   "cell_type": "code",
   "execution_count": 3,
   "metadata": {},
   "outputs": [],
   "source": [
    "# helper function for getting probability, class id and class name\n",
    "def convert2label(pred, is_clever=False):\n",
    "    label_id, probability = 0, 0.\n",
    "    \n",
    "    if not is_clever:\n",
    "        tensor_pred = torch.from_numpy(pred)\n",
    "        probabilities = torch.nn.functional.softmax(tensor_pred, dim=1)\n",
    "        label_id = int(torch.argmax(tensor_pred))\n",
    "        probability = torch.max(probabilities)\n",
    "\n",
    "    else:\n",
    "        probability = torch.max(pred)\n",
    "        label_id = int(torch.argmax(pred))\n",
    "        \n",
    "    return label_id, probability"
   ]
  },
  {
   "cell_type": "code",
   "execution_count": 4,
   "metadata": {},
   "outputs": [],
   "source": [
    "# helper function for executing ART attacks\n",
    "import time\n",
    "\n",
    "def art_attack(attack, img, classifier, targeted=False, target=None):\n",
    "\n",
    "    start = time.time()\n",
    "\n",
    "    adv_img = attack.generate(x=img) if not targeted else attack.generate(x=img, y=target)\n",
    "\n",
    "    normal_pred = classifier.predict(img)\n",
    "    adv_pred = classifier.predict(adv_img)\n",
    "    \n",
    "    attack_time = time.time() - start\n",
    "\n",
    "    return normal_pred, adv_pred, attack_time \n"
   ]
  },
  {
   "cell_type": "markdown",
   "metadata": {},
   "source": [
    "### Adversarial Robustness Toolbox"
   ]
  },
  {
   "cell_type": "code",
   "execution_count": 5,
   "metadata": {},
   "outputs": [],
   "source": [
    "# prepare classifiers\n",
    "mobile_classifier = PyTorchClassifier(\n",
    "    model = mobile_model,\n",
    "    loss = torch.nn.CrossEntropyLoss(),\n",
    "    input_shape=(3,224, 224),\n",
    "    nb_classes=len(imagenet_labels),\n",
    "    optimizer=None,\n",
    "    clip_values=(0,1)\n",
    ")\n",
    "\n",
    "vgg16_classifier = PyTorchClassifier(\n",
    "    model = vgg16_model,\n",
    "    loss = torch.nn.CrossEntropyLoss(),\n",
    "    input_shape=(3,224,224),\n",
    "    nb_classes=len(imagenet_labels),\n",
    "    optimizer=None,\n",
    "    clip_values=(0,1)\n",
    ")\n",
    "\n",
    "resnet_classifier = PyTorchClassifier(\n",
    "    model = resnet_model,\n",
    "    loss = torch.nn.CrossEntropyLoss(),\n",
    "    input_shape=(3,224,224),\n",
    "    nb_classes=len(imagenet_labels),\n",
    "    optimizer=None,\n",
    "    clip_values=(0,1)\n",
    ")"
   ]
  },
  {
   "cell_type": "markdown",
   "metadata": {},
   "source": [
    "#### Carlini Wagner L2"
   ]
  },
  {
   "cell_type": "code",
   "execution_count": 24,
   "metadata": {},
   "outputs": [
    {
     "name": "stderr",
     "output_type": "stream",
     "text": [
      "C&W L_2: 100%|██████████| 1/1 [00:07<00:00,  7.91s/it]\n",
      "C&W L_2: 100%|██████████| 1/1 [00:07<00:00,  7.30s/it]\n",
      "C&W L_2: 100%|██████████| 1/1 [00:07<00:00,  7.03s/it]\n",
      "C&W L_2: 100%|██████████| 1/1 [00:07<00:00,  7.41s/it]\n",
      "C&W L_2: 100%|██████████| 1/1 [00:07<00:00,  7.16s/it]\n"
     ]
    },
    {
     "name": "stdout",
     "output_type": "stream",
     "text": [
      "===================================================================================================================================================\n",
      "\n",
      "Model: mobile_v3, Correct class: wallaby, Adversarial class: spiny lobster\n",
      "\n",
      "Average time: 7.391825532913208, Average normal probability: 0.24029135704040527, Average adversary probability: 0.012486599199473859\n",
      "\n",
      "\n"
     ]
    },
    {
     "name": "stderr",
     "output_type": "stream",
     "text": [
      "C&W L_2: 100%|██████████| 1/1 [00:12<00:00, 12.67s/it]\n",
      "C&W L_2: 100%|██████████| 1/1 [00:12<00:00, 12.65s/it]\n",
      "C&W L_2: 100%|██████████| 1/1 [00:13<00:00, 13.12s/it]\n",
      "C&W L_2: 100%|██████████| 1/1 [00:12<00:00, 12.76s/it]\n",
      "C&W L_2: 100%|██████████| 1/1 [00:13<00:00, 13.09s/it]\n"
     ]
    },
    {
     "name": "stdout",
     "output_type": "stream",
     "text": [
      "===================================================================================================================================================\n",
      "\n",
      "Model: vgg16, Correct class: dingo, Adversarial class: spiny lobster\n",
      "\n",
      "Average time: 12.89978289604187, Average normal probability: 0.37113168835639954, Average adversary probability: 0.10962438434362412\n",
      "\n",
      "\n"
     ]
    },
    {
     "name": "stderr",
     "output_type": "stream",
     "text": [
      "C&W L_2: 100%|██████████| 1/1 [01:28<00:00, 88.34s/it]\n",
      "C&W L_2: 100%|██████████| 1/1 [01:31<00:00, 91.31s/it]\n",
      "C&W L_2: 100%|██████████| 1/1 [01:31<00:00, 91.18s/it]\n",
      "C&W L_2: 100%|██████████| 1/1 [01:30<00:00, 90.99s/it]\n",
      "C&W L_2: 100%|██████████| 1/1 [01:28<00:00, 88.71s/it]\n"
     ]
    },
    {
     "name": "stdout",
     "output_type": "stream",
     "text": [
      "===================================================================================================================================================\n",
      "\n",
      "Model: resnet50, Correct class: wallaby, Adversarial class: spiny lobster\n",
      "\n",
      "Average time: 90.42976956367492, Average normal probability: 0.9998335838317871, Average adversary probability: 0.455068439245224\n",
      "\n",
      "\n"
     ]
    }
   ],
   "source": [
    "classifier_tab = [mobile_classifier, vgg16_classifier, resnet_classifier]\n",
    "classifier_names = [\"mobile_v3\", \"vgg16\", \"resnet50\"]\n",
    "iter = 5\n",
    "norm_probs = np.zeros(iter)\n",
    "norm_ids = np.zeros(iter)\n",
    "adv_probs = np.zeros(iter)\n",
    "adv_ids = np.zeros(iter)\n",
    "times = np.zeros(iter)\n",
    "\n",
    "target = np.zeros((1, len(imagenet_labels)))\n",
    "target[0, 123] = 1\n",
    "\n",
    "\n",
    "for classifier, name in zip(classifier_tab, classifier_names):\n",
    "    \n",
    "    attack = CarliniL2Method(classifier=classifier, targeted=True, learning_rate=0.1)\n",
    "    \n",
    "    for i in range(iter):\n",
    "        norm, adv, att_time = art_attack(attack, img=art_img_np, classifier=classifier, targeted=True, target = target)\n",
    "        norm_id, norm_prob = convert2label(norm)\n",
    "        adv_id, adv_prob = convert2label(adv)\n",
    "        \n",
    "        times[i] = att_time\n",
    "        norm_ids[i], norm_probs[i] = norm_id, norm_prob\n",
    "        adv_ids[i], adv_probs[i] = adv_id, adv_prob\n",
    "    \n",
    "    if (not all(id == norm_ids[0] for id in norm_ids)) or (not all(id == adv_ids[0] for id in adv_ids)):\n",
    "        print(\"ERROR: Not all ids in table are the same\")\n",
    "        break\n",
    "    \n",
    "    print(\"===================================================================================================================================================\\n\")\n",
    "    print(f\"Model: {name}, Correct class: {imagenet_labels[int(norm_ids[0])]}, Adversarial class: {imagenet_labels[int(adv_ids[0])]}\\n\")\n",
    "    print(f\"Average time: {np.average(times)}, Average normal probability: {np.average(norm_probs)}, Average adversary probability: {np.average(adv_probs)}\")\n",
    "    print(\"\\n\")\n",
    "    "
   ]
  },
  {
   "cell_type": "markdown",
   "metadata": {},
   "source": [
    "#### PGD"
   ]
  },
  {
   "cell_type": "code",
   "execution_count": 25,
   "metadata": {},
   "outputs": [
    {
     "name": "stderr",
     "output_type": "stream",
     "text": [
      "                                                            \r"
     ]
    },
    {
     "name": "stdout",
     "output_type": "stream",
     "text": [
      "===================================================================================================================================================\n",
      "\n",
      "Model: mobile_v3, Correct class: wallaby, Adversarial class: spiny lobster\n",
      "\n",
      "Average time: 1.6023033618927003, Average normal probability: 0.24029135704040527, Average adversary probability: 0.9991568326950073\n",
      "\n",
      "\n"
     ]
    },
    {
     "name": "stderr",
     "output_type": "stream",
     "text": [
      "                                                            \r"
     ]
    },
    {
     "name": "stdout",
     "output_type": "stream",
     "text": [
      "===================================================================================================================================================\n",
      "\n",
      "Model: vgg16, Correct class: dingo, Adversarial class: spiny lobster\n",
      "\n",
      "Average time: 3.4947418689727785, Average normal probability: 0.37113168835639954, Average adversary probability: 0.8382400274276733\n",
      "\n",
      "\n"
     ]
    },
    {
     "name": "stderr",
     "output_type": "stream",
     "text": [
      "                                                            \r"
     ]
    },
    {
     "name": "stdout",
     "output_type": "stream",
     "text": [
      "===================================================================================================================================================\n",
      "\n",
      "Model: resnet50, Correct class: wallaby, Adversarial class: spiny lobster\n",
      "\n",
      "Average time: 24.27668514251709, Average normal probability: 0.9998335838317871, Average adversary probability: 1.0\n",
      "\n",
      "\n"
     ]
    }
   ],
   "source": [
    "classifier_tab = [mobile_classifier, vgg16_classifier, resnet_classifier]\n",
    "classifier_names = [\"mobile_v3\", \"vgg16\", \"resnet50\"]\n",
    "iter = 5\n",
    "norm_probs = np.zeros(iter)\n",
    "norm_ids = np.zeros(iter)\n",
    "adv_probs = np.zeros(iter)\n",
    "adv_ids = np.zeros(iter)\n",
    "times = np.zeros(iter)\n",
    "\n",
    "target = np.zeros((1, len(imagenet_labels)))\n",
    "target[0, 123] = 1\n",
    "\n",
    "\n",
    "for classifier, name in zip(classifier_tab, classifier_names):\n",
    "    \n",
    "    attack = ProjectedGradientDescent(estimator=classifier, norm=np.inf, targeted=True)\n",
    "    \n",
    "    for i in range(iter):\n",
    "        norm, adv, att_time = art_attack(attack, img=art_img_np, classifier=classifier, targeted=True, target = target)\n",
    "        norm_id, norm_prob = convert2label(norm)\n",
    "        adv_id, adv_prob = convert2label(adv)\n",
    "        \n",
    "        times[i] = att_time\n",
    "        norm_ids[i], norm_probs[i] = norm_id, norm_prob\n",
    "        adv_ids[i], adv_probs[i] = adv_id, adv_prob\n",
    "    \n",
    "    if (not all(id == norm_ids[0] for id in norm_ids)) or (not all(id == adv_ids[0] for id in adv_ids)):\n",
    "        print(\"ERROR: Not all ids in table are the same\")\n",
    "        break\n",
    "    \n",
    "    print(\"===================================================================================================================================================\\n\")\n",
    "    print(f\"Model: {name}, Correct class: {imagenet_labels[int(norm_ids[0])]}, Adversarial class: {imagenet_labels[int(adv_ids[0])]}\\n\")\n",
    "    print(f\"Average time: {np.average(times)}, Average normal probability: {np.average(norm_probs)}, Average adversary probability: {np.average(adv_probs)}\")\n",
    "    print(\"\\n\")"
   ]
  },
  {
   "cell_type": "markdown",
   "metadata": {},
   "source": [
    "#### Jacob Saliency Map Attack (JSMA)"
   ]
  },
  {
   "cell_type": "code",
   "execution_count": 26,
   "metadata": {},
   "outputs": [
    {
     "name": "stderr",
     "output_type": "stream",
     "text": [
      "C:\\Users\\Wojciech\\AppData\\Local\\Temp\\ipykernel_3596\\2078573611.py:8: DeprecationWarning: `product` is deprecated as of NumPy 1.25.0, and will be removed in NumPy 2.0. Please use `prod` instead.\n",
      "  adv_img = attack.generate(x=img) if not targeted else attack.generate(x=img, y=target)\n",
      "JSMA: 100%|██████████| 1/1 [00:16<00:00, 16.94s/it]\n",
      "JSMA: 100%|██████████| 1/1 [00:16<00:00, 16.15s/it]\n",
      "JSMA: 100%|██████████| 1/1 [00:15<00:00, 15.98s/it]\n",
      "JSMA: 100%|██████████| 1/1 [00:15<00:00, 15.73s/it]\n",
      "JSMA: 100%|██████████| 1/1 [00:15<00:00, 15.62s/it]\n"
     ]
    },
    {
     "name": "stdout",
     "output_type": "stream",
     "text": [
      "===================================================================================================================================================\n",
      "\n",
      "Model: mobile_v3, Correct class: wallaby, Adversarial class: spiny lobster\n",
      "\n",
      "Average time: 16.110242652893067, Average normal probability: 0.24029135704040527, Average adversary probability: 0.497028112411499\n",
      "\n",
      "\n"
     ]
    },
    {
     "name": "stderr",
     "output_type": "stream",
     "text": [
      "JSMA: 100%|██████████| 1/1 [04:02<00:00, 242.31s/it]\n",
      "JSMA: 100%|██████████| 1/1 [04:02<00:00, 242.96s/it]\n",
      "JSMA: 100%|██████████| 1/1 [04:02<00:00, 242.99s/it]\n",
      "JSMA: 100%|██████████| 1/1 [04:02<00:00, 242.14s/it]\n",
      "JSMA: 100%|██████████| 1/1 [04:02<00:00, 242.17s/it]\n"
     ]
    },
    {
     "name": "stdout",
     "output_type": "stream",
     "text": [
      "===================================================================================================================================================\n",
      "\n",
      "Model: vgg16, Correct class: dingo, Adversarial class: crayfish\n",
      "\n",
      "Average time: 242.55334496498108, Average normal probability: 0.37113168835639954, Average adversary probability: 0.9981831908226013\n",
      "\n",
      "\n"
     ]
    },
    {
     "name": "stderr",
     "output_type": "stream",
     "text": [
      "JSMA: 100%|██████████| 1/1 [04:20<00:00, 260.25s/it]\n",
      "JSMA: 100%|██████████| 1/1 [04:18<00:00, 258.28s/it]\n",
      "JSMA: 100%|██████████| 1/1 [04:14<00:00, 254.25s/it]\n",
      "JSMA: 100%|██████████| 1/1 [04:12<00:00, 252.89s/it]\n",
      "JSMA: 100%|██████████| 1/1 [04:13<00:00, 253.49s/it]\n"
     ]
    },
    {
     "name": "stdout",
     "output_type": "stream",
     "text": [
      "===================================================================================================================================================\n",
      "\n",
      "Model: resnet50, Correct class: wallaby, Adversarial class: spiny lobster\n",
      "\n",
      "Average time: 256.1481903076172, Average normal probability: 0.9998335838317871, Average adversary probability: 0.4923088550567627\n",
      "\n",
      "\n"
     ]
    }
   ],
   "source": [
    "classifier_tab = [mobile_classifier, vgg16_classifier, resnet_classifier]\n",
    "classifier_names = [\"mobile_v3\", \"vgg16\", \"resnet50\"]\n",
    "iter = 5\n",
    "norm_probs = np.zeros(iter)\n",
    "norm_ids = np.zeros(iter)\n",
    "adv_probs = np.zeros(iter)\n",
    "adv_ids = np.zeros(iter)\n",
    "times = np.zeros(iter)\n",
    "\n",
    "target = np.zeros((1, len(imagenet_labels)))\n",
    "target[0, 123] = 1\n",
    "\n",
    "\n",
    "for classifier, name in zip(classifier_tab, classifier_names):\n",
    "    \n",
    "    attack = SaliencyMapMethod(classifier=classifier, theta=0.3, gamma=0.05)\n",
    "    \n",
    "    for i in range(iter):\n",
    "        norm, adv, att_time = art_attack(attack, img=art_img_np, classifier=classifier, targeted=True, target = target)\n",
    "        norm_id, norm_prob = convert2label(norm)\n",
    "        adv_id, adv_prob = convert2label(adv)\n",
    "        \n",
    "        times[i] = att_time\n",
    "        norm_ids[i], norm_probs[i] = norm_id, norm_prob\n",
    "        adv_ids[i], adv_probs[i] = adv_id, adv_prob\n",
    "    \n",
    "    if (not all(id == norm_ids[0] for id in norm_ids)) or (not all(id == adv_ids[0] for id in adv_ids)):\n",
    "        print(\"ERROR: Not all ids in table are the same\")\n",
    "        break\n",
    "    \n",
    "    print(\"===================================================================================================================================================\\n\")\n",
    "    print(f\"Model: {name}, Correct class: {imagenet_labels[int(norm_ids[0])]}, Adversarial class: {imagenet_labels[int(adv_ids[0])]}\\n\")\n",
    "    print(f\"Average time: {np.average(times)}, Average normal probability: {np.average(norm_probs)}, Average adversary probability: {np.average(adv_probs)}\")\n",
    "    print(\"\\n\")"
   ]
  },
  {
   "cell_type": "markdown",
   "metadata": {},
   "source": [
    "### Non Targeted Attacks"
   ]
  },
  {
   "cell_type": "code",
   "execution_count": 27,
   "metadata": {},
   "outputs": [],
   "source": [
    "def list_non_targeted_labels(label_ids):\n",
    "    res = \"\"\n",
    "    for i in range(len(label_ids)):\n",
    "        res += imagenet_labels[int(label_ids[i])]\n",
    "        if i != len(label_ids) - 1:\n",
    "            res += \", \"\n",
    "    return res"
   ]
  },
  {
   "cell_type": "markdown",
   "metadata": {},
   "source": [
    "#### ART"
   ]
  },
  {
   "cell_type": "code",
   "execution_count": 28,
   "metadata": {},
   "outputs": [
    {
     "name": "stderr",
     "output_type": "stream",
     "text": [
      "DeepFool:   0%|          | 0/1 [00:00<?, ?it/s]"
     ]
    },
    {
     "name": "stderr",
     "output_type": "stream",
     "text": [
      "DeepFool: 100%|██████████| 1/1 [00:00<00:00,  3.50it/s]\n",
      "DeepFool: 100%|██████████| 1/1 [00:00<00:00,  3.45it/s]\n",
      "DeepFool: 100%|██████████| 1/1 [00:00<00:00,  3.21it/s]\n",
      "DeepFool: 100%|██████████| 1/1 [00:00<00:00,  3.32it/s]\n",
      "DeepFool: 100%|██████████| 1/1 [00:00<00:00,  3.45it/s]\n"
     ]
    },
    {
     "name": "stdout",
     "output_type": "stream",
     "text": [
      "===================================================================================================================================================\n",
      "\n",
      "Model: mobile_v3, Correct class: wallaby, Adversarial class: coyote, coyote, coyote, coyote, coyote\n",
      "\n",
      "Average time: 0.3199635982513428, Average normal probability: 0.24029135704040527, Average adversary probability: 0.15137094259262085\n",
      "\n",
      "\n"
     ]
    },
    {
     "name": "stderr",
     "output_type": "stream",
     "text": [
      "DeepFool: 100%|██████████| 1/1 [00:00<00:00,  1.46it/s]\n",
      "DeepFool: 100%|██████████| 1/1 [00:00<00:00,  1.46it/s]\n",
      "DeepFool: 100%|██████████| 1/1 [00:00<00:00,  1.47it/s]\n",
      "DeepFool: 100%|██████████| 1/1 [00:00<00:00,  1.47it/s]\n",
      "DeepFool: 100%|██████████| 1/1 [00:00<00:00,  1.44it/s]\n"
     ]
    },
    {
     "name": "stdout",
     "output_type": "stream",
     "text": [
      "===================================================================================================================================================\n",
      "\n",
      "Model: vgg16, Correct class: dingo, Adversarial class: hare, hare, hare, hare, hare\n",
      "\n",
      "Average time: 0.7221071720123291, Average normal probability: 0.37113168835639954, Average adversary probability: 0.9258731245994568\n",
      "\n",
      "\n"
     ]
    },
    {
     "name": "stderr",
     "output_type": "stream",
     "text": [
      "DeepFool: 100%|██████████| 1/1 [00:09<00:00,  9.81s/it]\n",
      "DeepFool: 100%|██████████| 1/1 [00:09<00:00,  9.65s/it]\n",
      "DeepFool: 100%|██████████| 1/1 [00:09<00:00,  9.68s/it]\n",
      "DeepFool: 100%|██████████| 1/1 [00:09<00:00,  9.69s/it]\n",
      "DeepFool: 100%|██████████| 1/1 [00:09<00:00,  9.67s/it]\n"
     ]
    },
    {
     "name": "stdout",
     "output_type": "stream",
     "text": [
      "===================================================================================================================================================\n",
      "\n",
      "Model: resnet50, Correct class: wallaby, Adversarial class: kit fox, kit fox, kit fox, kit fox, kit fox\n",
      "\n",
      "Average time: 10.014681196212768, Average normal probability: 0.9998335838317871, Average adversary probability: 0.5609124898910522\n",
      "\n",
      "\n"
     ]
    }
   ],
   "source": [
    "classifier_tab = [mobile_classifier, vgg16_classifier, resnet_classifier]\n",
    "classifier_names = [\"mobile_v3\", \"vgg16\", \"resnet50\"]\n",
    "iter = 5\n",
    "norm_probs = np.zeros(iter)\n",
    "norm_ids = np.zeros(iter)\n",
    "adv_probs = np.zeros(iter)\n",
    "adv_ids = np.zeros(iter)\n",
    "times = np.zeros(iter)\n",
    "\n",
    "\n",
    "for classifier, name in zip(classifier_tab, classifier_names):\n",
    "    \n",
    "    attack = DeepFool(classifier=classifier)\n",
    "    \n",
    "    for i in range(iter):\n",
    "        norm, adv, att_time = art_attack(attack, img=art_img_np, classifier=classifier)\n",
    "        norm_id, norm_prob = convert2label(norm)\n",
    "        adv_id, adv_prob = convert2label(adv)\n",
    "        \n",
    "        times[i] = att_time\n",
    "        norm_ids[i], norm_probs[i] = norm_id, norm_prob\n",
    "        adv_ids[i], adv_probs[i] = adv_id, adv_prob\n",
    "    \n",
    "    print(\"===================================================================================================================================================\\n\")\n",
    "    print(f\"Model: {name}, Correct class: {imagenet_labels[int(norm_ids[0])]}, Adversarial class: {list_non_targeted_labels(adv_ids)}\\n\")\n",
    "    print(f\"Average time: {np.average(times)}, Average normal probability: {np.average(norm_probs)}, Average adversary probability: {np.average(adv_probs)}\")\n",
    "    print(\"\\n\")"
   ]
  },
  {
   "cell_type": "code",
   "execution_count": 29,
   "metadata": {},
   "outputs": [
    {
     "name": "stderr",
     "output_type": "stream",
     "text": [
      "HopSkipJump: 100%|██████████| 1/1 [00:24<00:00, 24.35s/it]\n",
      "HopSkipJump: 100%|██████████| 1/1 [00:23<00:00, 23.33s/it]\n",
      "HopSkipJump: 100%|██████████| 1/1 [00:23<00:00, 23.31s/it]\n",
      "HopSkipJump: 100%|██████████| 1/1 [00:23<00:00, 23.57s/it]\n",
      "HopSkipJump: 100%|██████████| 1/1 [00:23<00:00, 23.43s/it]\n"
     ]
    },
    {
     "name": "stdout",
     "output_type": "stream",
     "text": [
      "===================================================================================================================================================\n",
      "\n",
      "Model: mobile_v3, Correct class: wallaby, Adversarial class: coyote, coyote, coyote, coyote, coyote\n",
      "\n",
      "Average time: 23.6619300365448, Average normal probability: 0.23994162678718567, Average adversary probability: 0.18875771760940552\n",
      "\n",
      "\n"
     ]
    },
    {
     "name": "stderr",
     "output_type": "stream",
     "text": [
      "HopSkipJump: 100%|██████████| 1/1 [02:54<00:00, 174.84s/it]\n",
      "HopSkipJump: 100%|██████████| 1/1 [02:57<00:00, 177.70s/it]\n",
      "HopSkipJump: 100%|██████████| 1/1 [02:57<00:00, 177.49s/it]\n",
      "HopSkipJump: 100%|██████████| 1/1 [02:56<00:00, 176.82s/it]\n",
      "HopSkipJump: 100%|██████████| 1/1 [02:57<00:00, 177.03s/it]\n"
     ]
    },
    {
     "name": "stdout",
     "output_type": "stream",
     "text": [
      "===================================================================================================================================================\n",
      "\n",
      "Model: resnet50, Correct class: wallaby, Adversarial class: hare, hare, kit fox, kit fox, kit fox\n",
      "\n",
      "Average time: 177.43666014671325, Average normal probability: 0.9998335838317871, Average adversary probability: 0.8303416728973388\n",
      "\n",
      "\n"
     ]
    },
    {
     "name": "stderr",
     "output_type": "stream",
     "text": [
      "HopSkipJump: 100%|██████████| 1/1 [11:49<00:00, 709.16s/it]\n",
      "HopSkipJump: 100%|██████████| 1/1 [11:50<00:00, 710.22s/it]\n",
      "HopSkipJump: 100%|██████████| 1/1 [11:47<00:00, 707.99s/it]\n",
      "HopSkipJump: 100%|██████████| 1/1 [11:14<00:00, 674.45s/it]\n",
      "HopSkipJump: 100%|██████████| 1/1 [11:11<00:00, 671.06s/it]\n"
     ]
    },
    {
     "name": "stdout",
     "output_type": "stream",
     "text": [
      "===================================================================================================================================================\n",
      "\n",
      "Model: vgg16, Correct class: dingo, Adversarial class: coyote, coyote, coyote, coyote, coyote\n",
      "\n",
      "Average time: 696.7604658603668, Average normal probability: 0.3712729513645172, Average adversary probability: 0.252391105890274\n",
      "\n",
      "\n"
     ]
    }
   ],
   "source": [
    "mobile_model_double = DoubleModelTimmWrapper(mobile_model)\n",
    "vgg16_model_double = DoubleModelTimmWrapper(vgg16_model)\n",
    "\n",
    "mobile_classifier_double = PyTorchClassifier(\n",
    "    model = mobile_model_double,\n",
    "    loss = torch.nn.CrossEntropyLoss(),\n",
    "    input_shape=(3,224,224),\n",
    "    nb_classes=len(imagenet_labels),\n",
    "    optimizer=None,\n",
    "    clip_values=(0,1)\n",
    ")\n",
    "\n",
    "vgg16_classifier_double = PyTorchClassifier(\n",
    "    model = vgg16_model_double,\n",
    "    loss = torch.nn.CrossEntropyLoss(),\n",
    "    input_shape=(3,224,224),\n",
    "    nb_classes=len(imagenet_labels),\n",
    "    optimizer=None,\n",
    "    clip_values=(0,1)\n",
    ")\n",
    "\n",
    "classifier_tab = [mobile_classifier_double, resnet_classifier, vgg16_classifier_double]\n",
    "classifier_names = [\"mobile_v3\", \"resnet50\", \"vgg16\"]\n",
    "iter = 5\n",
    "norm_probs = np.zeros(iter)\n",
    "norm_ids = np.zeros(iter)\n",
    "adv_probs = np.zeros(iter)\n",
    "adv_ids = np.zeros(iter)\n",
    "times = np.zeros(iter)\n",
    "\n",
    "\n",
    "for classifier, name in zip(classifier_tab, classifier_names):\n",
    "    \n",
    "    attack = HopSkipJump(classifier=classifier, norm=2, max_iter=10)\n",
    "    \n",
    "    for i in range(iter):\n",
    "        norm, adv, att_time = art_attack(attack, img=art_img_np, classifier=classifier)\n",
    "        norm_id, norm_prob = convert2label(norm)\n",
    "        adv_id, adv_prob = convert2label(adv)\n",
    "        \n",
    "        times[i] = att_time\n",
    "        norm_ids[i], norm_probs[i] = norm_id, norm_prob\n",
    "        adv_ids[i], adv_probs[i] = adv_id, adv_prob\n",
    "    \n",
    "    print(\"===================================================================================================================================================\\n\")\n",
    "    print(f\"Model: {name}, Correct class: {imagenet_labels[int(norm_ids[0])]}, Adversarial class: {list_non_targeted_labels(adv_ids)}\\n\")\n",
    "    print(f\"Average time: {np.average(times)}, Average normal probability: {np.average(norm_probs)}, Average adversary probability: {np.average(adv_probs)}\")\n",
    "    print(\"\\n\")"
   ]
  },
  {
   "cell_type": "code",
   "execution_count": 30,
   "metadata": {},
   "outputs": [
    {
     "name": "stderr",
     "output_type": "stream",
     "text": [
      "EAD:   0%|          | 0/1 [00:00<?, ?it/s]"
     ]
    },
    {
     "name": "stderr",
     "output_type": "stream",
     "text": [
      "EAD: 100%|██████████| 1/1 [00:07<00:00,  7.24s/it]\n",
      "EAD: 100%|██████████| 1/1 [00:07<00:00,  7.17s/it]\n",
      "EAD: 100%|██████████| 1/1 [00:07<00:00,  7.09s/it]\n",
      "EAD: 100%|██████████| 1/1 [00:06<00:00,  6.96s/it]\n",
      "EAD: 100%|██████████| 1/1 [00:06<00:00,  6.93s/it]\n"
     ]
    },
    {
     "name": "stdout",
     "output_type": "stream",
     "text": [
      "===================================================================================================================================================\n",
      "\n",
      "Model: mobile_v3, Correct class: wallaby, Adversarial class: coyote, coyote, coyote, coyote, coyote\n",
      "\n",
      "Average time: 7.125292539596558, Average normal probability: 0.23994162678718567, Average adversary probability: 0.18650758266448975\n",
      "\n",
      "\n"
     ]
    },
    {
     "name": "stderr",
     "output_type": "stream",
     "text": [
      "EAD: 100%|██████████| 1/1 [03:36<00:00, 216.81s/it]\n",
      "EAD: 100%|██████████| 1/1 [03:36<00:00, 216.49s/it]\n",
      "EAD: 100%|██████████| 1/1 [03:36<00:00, 216.39s/it]\n",
      "EAD: 100%|██████████| 1/1 [03:29<00:00, 209.29s/it]\n",
      "EAD: 100%|██████████| 1/1 [03:46<00:00, 226.01s/it]\n"
     ]
    },
    {
     "name": "stdout",
     "output_type": "stream",
     "text": [
      "===================================================================================================================================================\n",
      "\n",
      "Model: vgg16, Correct class: dingo, Adversarial class: hare, hare, hare, hare, hare\n",
      "\n",
      "Average time: 218.77918338775635, Average normal probability: 0.3712729513645172, Average adversary probability: 0.23584821820259094\n",
      "\n",
      "\n"
     ]
    },
    {
     "name": "stderr",
     "output_type": "stream",
     "text": [
      "EAD: 100%|██████████| 1/1 [01:04<00:00, 64.21s/it]\n",
      "EAD: 100%|██████████| 1/1 [01:07<00:00, 67.36s/it]\n",
      "EAD: 100%|██████████| 1/1 [01:07<00:00, 67.38s/it]\n",
      "EAD: 100%|██████████| 1/1 [01:10<00:00, 70.10s/it]\n",
      "EAD: 100%|██████████| 1/1 [01:06<00:00, 66.83s/it]\n"
     ]
    },
    {
     "name": "stdout",
     "output_type": "stream",
     "text": [
      "===================================================================================================================================================\n",
      "\n",
      "Model: resnet50, Correct class: wallaby, Adversarial class: kit fox, kit fox, kit fox, kit fox, kit fox\n",
      "\n",
      "Average time: 67.75000014305115, Average normal probability: 0.9998335838317871, Average adversary probability: 0.4972759783267975\n",
      "\n",
      "\n"
     ]
    }
   ],
   "source": [
    "classifier_tab = [mobile_classifier_double, vgg16_classifier_double, resnet_classifier]\n",
    "classifier_names = [\"mobile_v3\", \"vgg16\", \"resnet50\"]\n",
    "iter = 5\n",
    "norm_probs = np.zeros(iter)\n",
    "norm_ids = np.zeros(iter)\n",
    "adv_probs = np.zeros(iter)\n",
    "adv_ids = np.zeros(iter)\n",
    "times = np.zeros(iter)\n",
    "\n",
    "\n",
    "for classifier, name in zip(classifier_tab, classifier_names):\n",
    "    \n",
    "    attack = ElasticNet(classifier=classifier, max_iter=10)\n",
    "    \n",
    "    for i in range(iter):\n",
    "        norm, adv, att_time = art_attack(attack, img=art_img_np, classifier=classifier)\n",
    "        norm_id, norm_prob = convert2label(norm)\n",
    "        adv_id, adv_prob = convert2label(adv)\n",
    "        \n",
    "        times[i] = att_time\n",
    "        norm_ids[i], norm_probs[i] = norm_id, norm_prob\n",
    "        adv_ids[i], adv_probs[i] = adv_id, adv_prob\n",
    "    \n",
    "    print(\"===================================================================================================================================================\\n\")\n",
    "    print(f\"Model: {name}, Correct class: {imagenet_labels[int(norm_ids[0])]}, Adversarial class: {list_non_targeted_labels(adv_ids)}\\n\")\n",
    "    print(f\"Average time: {np.average(times)}, Average normal probability: {np.average(norm_probs)}, Average adversary probability: {np.average(adv_probs)}\")\n",
    "    print(\"\\n\")"
   ]
  },
  {
   "cell_type": "markdown",
   "metadata": {},
   "source": [
    "### Targeted Attacks"
   ]
  },
  {
   "cell_type": "markdown",
   "metadata": {},
   "source": [
    "#### Cleverhans"
   ]
  },
  {
   "cell_type": "markdown",
   "metadata": {},
   "source": [
    "##### Carlini Wagner L2"
   ]
  },
  {
   "cell_type": "code",
   "execution_count": 33,
   "metadata": {},
   "outputs": [
    {
     "name": "stdout",
     "output_type": "stream",
     "text": [
      "===================================================================================================================================================\n",
      "\n",
      "Model: mobile_v3, Correct class: wallaby, Adversarial class: spiny lobster\n",
      "\n",
      "Average time: 1.574246883392334, Average normal probability: 0.24029138684272766, Average adversary probability: 0.28871172834187747\n",
      "\n",
      "\n",
      "===================================================================================================================================================\n",
      "\n",
      "Model: vgg16, Correct class: dingo, Adversarial class: spiny lobster\n",
      "\n",
      "Average time: 4.354140710830689, Average normal probability: 0.37113162875175476, Average adversary probability: 0.4082416519522667\n",
      "\n",
      "\n",
      "===================================================================================================================================================\n",
      "\n",
      "Model: resnet50, Correct class: wallaby, Adversarial class: spiny lobster\n",
      "\n",
      "Average time: 26.704101753234863, Average normal probability: 0.9998326247808695, Average adversary probability: 0.5135234698816326\n",
      "\n",
      "\n"
     ]
    }
   ],
   "source": [
    "model_tab = [mobile_model, vgg16_model, resnet_model]\n",
    "model_names = [\"mobile_v3\", \"vgg16\", \"resnet50\"]\n",
    "iter = 5\n",
    "norm_probs = np.zeros(iter)\n",
    "norm_ids = np.zeros(iter)\n",
    "adv_probs = np.zeros(iter)\n",
    "adv_ids = np.zeros(iter)\n",
    "times = np.zeros(iter)\n",
    "\n",
    "image_cw2 = img_transforms(image).unsqueeze(0).cuda()\n",
    "\n",
    "arr = np.zeros(1)\n",
    "arr[0] = imagenet_labels.index('spiny lobster')\n",
    "target_tensor = torch.from_numpy(arr).to(dtype=torch.long).cuda()\n",
    "    \n",
    "for model, name in zip(model_tab, model_names):\n",
    "    \n",
    "    for i in range(iter):\n",
    "\n",
    "        start = time.time()\n",
    "        adv_img = carlini_wagner_l2(model, image_cw2, n_classes=len(imagenet_labels), targeted=True, y=target_tensor, lr=0.1, max_iterations=10, binary_search_steps=10)\n",
    "\n",
    "        with torch.no_grad():\n",
    "            logits = model(image_cw2)\n",
    "        norm = torch.nn.functional.softmax(logits, dim=1)    \n",
    "        with torch.no_grad():\n",
    "            logits = model(adv_img)\n",
    "        adv = torch.nn.functional.softmax(logits, dim=1)\n",
    "\n",
    "        end = time.time()\n",
    "\n",
    "        norm_id, norm_prob = convert2label(norm, is_clever=True)\n",
    "        adv_id, adv_prob = convert2label(adv, is_clever=True)\n",
    "        \n",
    "        times[i] = end - start\n",
    "        norm_ids[i], norm_probs[i] = norm_id, norm_prob\n",
    "        adv_ids[i], adv_probs[i] = adv_id, adv_prob\n",
    "    \n",
    "    if (not all(id == norm_ids[0] for id in norm_ids)) or (not all(id == adv_ids[0] for id in adv_ids)):\n",
    "        print(\"ERROR: Not all ids in table are the same\")\n",
    "        break\n",
    "    \n",
    "    print(\"===================================================================================================================================================\\n\")\n",
    "    print(f\"Model: {name}, Correct class: {imagenet_labels[int(norm_ids[0])]}, Adversarial class: {imagenet_labels[int(adv_ids[0])]}\\n\")\n",
    "    print(f\"Average time: {np.average(times)}, Average normal probability: {np.average(norm_probs)}, Average adversary probability: {np.average(adv_probs)}\")\n",
    "    print(\"\\n\")"
   ]
  },
  {
   "cell_type": "markdown",
   "metadata": {},
   "source": [
    "##### PGD"
   ]
  },
  {
   "cell_type": "code",
   "execution_count": 10,
   "metadata": {},
   "outputs": [
    {
     "name": "stdout",
     "output_type": "stream",
     "text": [
      "===================================================================================================================================================\n",
      "\n",
      "Model: mobile_v3, Correct class: wallaby, Adversarial class: spiny lobster\n",
      "\n",
      "Average time: 1.409954309463501, Average normal probability: 0.24029138684272766, Average adversary probability: 0.9984026432037354\n",
      "\n",
      "\n",
      "===================================================================================================================================================\n",
      "\n",
      "Model: vgg16, Correct class: dingo, Adversarial class: spiny lobster\n",
      "\n",
      "Average time: 3.6038485050201414, Average normal probability: 0.37113162875175476, Average adversary probability: 0.9023143529891968\n",
      "\n",
      "\n",
      "===================================================================================================================================================\n",
      "\n",
      "Model: resnet50, Correct class: wallaby, Adversarial class: spiny lobster\n",
      "\n",
      "Average time: 22.775072479248045, Average normal probability: 0.9998326247808695, Average adversary probability: 0.9999999996119161\n",
      "\n",
      "\n"
     ]
    }
   ],
   "source": [
    "model_tab = [mobile_model, vgg16_model, resnet_model]\n",
    "model_names = [\"mobile_v3\", \"vgg16\", \"resnet50\"]\n",
    "iter = 5\n",
    "norm_probs = np.zeros(iter)\n",
    "norm_ids = np.zeros(iter)\n",
    "adv_probs = np.zeros(iter)\n",
    "adv_ids = np.zeros(iter)\n",
    "times = np.zeros(iter)\n",
    "\n",
    "image_cw2 = img_transforms(image).unsqueeze(0).cuda()\n",
    "\n",
    "arr = np.zeros(1)\n",
    "arr[0] = imagenet_labels.index('spiny lobster')\n",
    "target_tensor = torch.from_numpy(arr).to(dtype=torch.long).cuda()\n",
    "    \n",
    "for model, name in zip(model_tab, model_names):\n",
    "    \n",
    "    for i in range(iter):\n",
    "\n",
    "        start = time.time()\n",
    "        adv_img = projected_gradient_descent(model, image_cw2, norm=np.inf, eps=0.3, eps_iter=0.1, nb_iter=100, targeted=True, y=target_tensor)\n",
    "\n",
    "        with torch.no_grad():\n",
    "            logits = model(image_cw2)\n",
    "        norm = torch.nn.functional.softmax(logits, dim=1)    \n",
    "        with torch.no_grad():\n",
    "            logits = model(adv_img)\n",
    "        adv = torch.nn.functional.softmax(logits, dim=1)\n",
    "\n",
    "        end = time.time()\n",
    "\n",
    "        norm_id, norm_prob = convert2label(norm, is_clever=True)\n",
    "        adv_id, adv_prob = convert2label(adv, is_clever=True)\n",
    "        \n",
    "        times[i] = end - start\n",
    "        norm_ids[i], norm_probs[i] = norm_id, norm_prob\n",
    "        adv_ids[i], adv_probs[i] = adv_id, adv_prob\n",
    "    \n",
    "    if (not all(id == norm_ids[0] for id in norm_ids)) or (not all(id == adv_ids[0] for id in adv_ids)):\n",
    "        print(\"ERROR: Not all ids in table are the same\")\n",
    "        break\n",
    "    \n",
    "    print(\"===================================================================================================================================================\\n\")\n",
    "    print(f\"Model: {name}, Correct class: {imagenet_labels[int(norm_ids[0])]}, Adversarial class: {imagenet_labels[int(adv_ids[0])]}\\n\")\n",
    "    print(f\"Average time: {np.average(times)}, Average normal probability: {np.average(norm_probs)}, Average adversary probability: {np.average(adv_probs)}\")\n",
    "    print(\"\\n\")"
   ]
  },
  {
   "cell_type": "code",
   "execution_count": null,
   "metadata": {},
   "outputs": [],
   "source": []
  }
 ],
 "metadata": {
  "kernelspec": {
   "display_name": "venv",
   "language": "python",
   "name": "python3"
  },
  "language_info": {
   "codemirror_mode": {
    "name": "ipython",
    "version": 3
   },
   "file_extension": ".py",
   "mimetype": "text/x-python",
   "name": "python",
   "nbconvert_exporter": "python",
   "pygments_lexer": "ipython3",
   "version": "3.10.6"
  }
 },
 "nbformat": 4,
 "nbformat_minor": 2
}
