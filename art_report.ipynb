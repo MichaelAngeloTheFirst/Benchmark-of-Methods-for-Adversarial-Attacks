{
 "cells": [
  {
   "cell_type": "code",
   "execution_count": 1,
   "metadata": {},
   "outputs": [
    {
     "name": "stderr",
     "output_type": "stream",
     "text": [
      "c:\\Users\\Wojciech\\Desktop\\ML-Advanced\\Benchmark-of-Methods-for-Adversarial-Attacks\\venv\\lib\\site-packages\\tqdm\\auto.py:21: TqdmWarning: IProgress not found. Please update jupyter and ipywidgets. See https://ipywidgets.readthedocs.io/en/stable/user_install.html\n",
      "  from .autonotebook import tqdm as notebook_tqdm\n"
     ]
    }
   ],
   "source": [
    "import torch\n",
    "import numpy as np\n",
    "import timm\n",
    "import torchvision as tvision\n",
    "import requests\n",
    "import pandas as pd\n",
    "import time\n",
    "\n",
    "from PIL import Image\n",
    "from urllib.request import urlopen\n",
    "from transformers import AutoImageProcessor, ResNetForImageClassification\n",
    "\n",
    "from art.estimators.classification import PyTorchClassifier\n",
    "from art.attacks.evasion import (CarliniL2Method, ProjectedGradientDescent,\n",
    "                                 ElasticNet, DeepFool, HopSkipJump)\n",
    "\n",
    "class DoubleModelWrapper(torch.nn.Module):\n",
    "    def __init__(self, model):\n",
    "        super().__init__()\n",
    "        self.model = model.to(dtype=torch.double).cuda()\n",
    "\n",
    "    def forward(self, x):\n",
    "        x = x.to(dtype=torch.double)\n",
    "        outputs = self.model(x)\n",
    "        logits = outputs.logits.to(dtype=torch.double)\n",
    "        return logits\n",
    "    \n",
    "class DoubleModelTimmWrapper(torch.nn.Module):\n",
    "    def __init__(self, model):\n",
    "        super().__init__()\n",
    "        self.model = model.to(dtype=torch.double)\n",
    "\n",
    "    def forward(self, x):\n",
    "        x = x.to(dtype=torch.double)\n",
    "        outputs = self.model(x)\n",
    "        return outputs.to(dtype=torch.double)\n",
    "\n",
    "\n",
    "# Setting up models\n",
    "\n",
    "mobile_model = timm.create_model('tf_mobilenetv3_large_minimal_100.in1k', pretrained=True)\n",
    "mobile_model = mobile_model.cuda().eval()\n",
    "mobile_model = DoubleModelTimmWrapper(mobile_model)\n",
    "\n",
    "mobile_data_config = timm.data.resolve_model_data_config(mobile_model)\n",
    "mobile_transforms = timm.data.create_transform(**mobile_data_config, is_training=False)\n",
    "\n",
    "vgg16_model = timm.create_model('vgg16.tv_in1k', pretrained=True)\n",
    "vgg16_model = vgg16_model.cuda().eval()\n",
    "vgg16_model = DoubleModelTimmWrapper(vgg16_model)\n",
    "\n",
    "vgg16_data_config = timm.data.resolve_model_data_config(vgg16_model)\n",
    "vgg16_transforms = timm.data.create_transform(**vgg16_data_config, is_training=False)\n",
    "\n",
    "processor = AutoImageProcessor.from_pretrained(\"microsoft/resnet-50\")\n",
    "hf_resnet = ResNetForImageClassification.from_pretrained(\"microsoft/resnet-50\")\n",
    "resnet_model = DoubleModelWrapper(hf_resnet)\n",
    "\n",
    "\n",
    "# Downloading labels for ImageNet1k\n",
    "url = \"https://raw.githubusercontent.com/anishathalye/imagenet-simple-labels/master/imagenet-simple-labels.json\"\n",
    "imagenet_labels = requests.get(url).json()\n",
    "\n",
    "# prepare image\n",
    "# image = Image.open(urlopen(\"https://transforms.stlzoo.org/production/animals/red-kangaroo-02-01.jpg?w=1200&h=1200&auto=compress%2Cformat&fit=crop&dm=1654795233&s=5f137aa9a410a7ea3386c6972265111d\"))\n",
    "\n",
    "image_transforms = tvision.transforms.Compose([\n",
    "    tvision.transforms.Resize((224, 224)),\n",
    "    tvision.transforms.ToTensor()\n",
    "])\n",
    "\n",
    "# image = image_transforms(image).unsqueeze(0).numpy()"
   ]
  },
  {
   "cell_type": "markdown",
   "metadata": {},
   "source": [
    "## Helpful Methods"
   ]
  },
  {
   "cell_type": "code",
   "execution_count": 2,
   "metadata": {},
   "outputs": [],
   "source": [
    "def art_with_cw2(image_url: str, model : torch.nn.Module, target_id: int = 123):\n",
    "    image = Image.open(urlopen(image_url))\n",
    "\n",
    "    input_img = image_transforms(image).unsqueeze(0).numpy()\n",
    "\n",
    "    classifier = PyTorchClassifier(\n",
    "        model = model,\n",
    "        loss = torch.nn.CrossEntropyLoss(),\n",
    "        input_shape=(3,224,224),\n",
    "        nb_classes=len(imagenet_labels),\n",
    "        optimizer=None,\n",
    "        clip_values=(0,1)\n",
    "    )\n",
    "\n",
    "    target_arr = np.zeros((1, len(imagenet_labels)))\n",
    "    target_arr[0, target_id] = 1\n",
    "\n",
    "    attack = CarliniL2Method(classifier=classifier, targeted=True, learning_rate=0.1, max_iter = 100, verbose=False)\n",
    "\n",
    "    adv_img = attack.generate(x=input_img, y=target_arr)\n",
    "\n",
    "    return torch.from_numpy(adv_img).cuda()"
   ]
  },
  {
   "cell_type": "code",
   "execution_count": 3,
   "metadata": {},
   "outputs": [],
   "source": [
    "def art_with_pgd(image_url: str, model : torch.nn.Module, target_id: int = 123):\n",
    "    image = Image.open(urlopen(image_url))\n",
    "\n",
    "    input_img = image_transforms(image).unsqueeze(0).numpy()\n",
    "\n",
    "    classifier = PyTorchClassifier(\n",
    "        model = model,\n",
    "        loss = torch.nn.CrossEntropyLoss(),\n",
    "        input_shape=(3,224,224),\n",
    "        nb_classes=len(imagenet_labels),\n",
    "        optimizer=None,\n",
    "        clip_values=(0,1)\n",
    "    )\n",
    "\n",
    "    target_arr = np.zeros((1, len(imagenet_labels)))\n",
    "    target_arr[0, target_id] = 1\n",
    "\n",
    "    attack = ProjectedGradientDescent(estimator=classifier, norm=np.inf, targeted=True, max_iter = 40, verbose=False)\n",
    "\n",
    "    adv_img = attack.generate(x=input_img, y=target_arr)\n",
    "\n",
    "    return torch.from_numpy(adv_img).cuda()"
   ]
  },
  {
   "cell_type": "code",
   "execution_count": 4,
   "metadata": {},
   "outputs": [],
   "source": [
    "def art_with_deepfool(image_url: str, model : torch.nn.Module):\n",
    "    image = Image.open(urlopen(image_url))\n",
    "\n",
    "    input_img = image_transforms(image).unsqueeze(0).numpy()\n",
    "\n",
    "    classifier = PyTorchClassifier(\n",
    "        model = model,\n",
    "        loss = torch.nn.CrossEntropyLoss(),\n",
    "        input_shape=(3,224,224),\n",
    "        nb_classes=len(imagenet_labels),\n",
    "        optimizer=None,\n",
    "        clip_values=(0,1)\n",
    "    )\n",
    "\n",
    "    attack = DeepFool(classifier=classifier, max_iter = 100, epsilon=0.000001, nb_grads=10, verbose=False)\n",
    "\n",
    "    adv_img = attack.generate(x=input_img)\n",
    "\n",
    "    return torch.from_numpy(adv_img).cuda()"
   ]
  },
  {
   "cell_type": "code",
   "execution_count": 5,
   "metadata": {},
   "outputs": [],
   "source": [
    "def art_with_eaden(image_url: str, model : torch.nn.Module):\n",
    "    image = Image.open(urlopen(image_url))\n",
    "\n",
    "    input_img = image_transforms(image).unsqueeze(0).numpy()\n",
    "\n",
    "    classifier = PyTorchClassifier(\n",
    "        model = model,\n",
    "        loss = torch.nn.CrossEntropyLoss(),\n",
    "        input_shape=(3,224,224),\n",
    "        nb_classes=len(imagenet_labels),\n",
    "        optimizer=None,\n",
    "        clip_values=(0,1)\n",
    "    )\n",
    "\n",
    "    attack = ElasticNet(classifier=classifier, max_iter = 10, decision_rule='EN', binary_search_steps=10, verbose=False)\n",
    "\n",
    "    adv_img = attack.generate(x=input_img)\n",
    "\n",
    "    return torch.from_numpy(adv_img).cuda()"
   ]
  },
  {
   "cell_type": "code",
   "execution_count": null,
   "metadata": {},
   "outputs": [],
   "source": [
    "def art_with_hopskipjump(image_url: str, model : torch.nn.Module):\n",
    "    image = Image.open(urlopen(image_url))\n",
    "\n",
    "    input_img = image_transforms(image).unsqueeze(0).numpy()\n",
    "\n",
    "    classifier = PyTorchClassifier(\n",
    "        model = model,\n",
    "        loss = torch.nn.CrossEntropyLoss(),\n",
    "        input_shape=(3,224,224),\n",
    "        nb_classes=len(imagenet_labels),\n",
    "        optimizer=None,\n",
    "        clip_values=(0,1)\n",
    "    )\n",
    "\n",
    "    attack = HopSkipJump(classifier=classifier, max_iter=10, verbose=False)\n",
    "\n",
    "    adv_img = attack.generate(x=input_img)\n",
    "\n",
    "    return torch.from_numpy(adv_img).cuda()"
   ]
  },
  {
   "cell_type": "code",
   "execution_count": 7,
   "metadata": {},
   "outputs": [],
   "source": [
    "def benchmark_methods(methods: dict, image_url: str, model, num_of_iters: int = 5):\n",
    "    \"\"\"\n",
    "    Benchmark a set of adversarial attack methods.\n",
    "\n",
    "    Args:\n",
    "        methods (dict): Dictionary of attack methods {method_name: function}.\n",
    "        image_url (str): URL of the input image.\n",
    "        model: Pretrained model to attack.\n",
    "\n",
    "    Returns:\n",
    "        pd.DataFrame: Benchmarking results as a tidy table.\n",
    "    \"\"\"\n",
    "    results = []\n",
    "\n",
    "    for method_name, method in methods.items():\n",
    "        times = []\n",
    "        probabilities_before = []\n",
    "        probabilities_after = []\n",
    "        label_before = []\n",
    "        label_after = []\n",
    "        # successes = []\n",
    "\n",
    "        print(f\"Benchmarking {method_name}...\")\n",
    "\n",
    "        for _ in range(num_of_iters):  # Run each method x times\n",
    "            start_time = time.time()\n",
    "            \n",
    "            # Run the adversarial method\n",
    "            raw_adversarial = method(image_url, model)\n",
    "            \n",
    "            img = Image.open(urlopen(image_url))\n",
    "            input_tensor = image_transforms(img).unsqueeze(0).cuda()\n",
    "            \n",
    "            \n",
    "            # Measure time\n",
    "            elapsed_time = time.time() - start_time\n",
    "            times.append(elapsed_time)\n",
    "            \n",
    "            # Collect probabilities\n",
    "            with torch.no_grad():\n",
    "                # For the original input\n",
    "                logits_before = model(input_tensor)\n",
    "                probabilities_before_run = torch.nn.functional.softmax(logits_before, dim=1)\n",
    "                probabilities_before.append(torch.max(probabilities_before_run).cpu().detach().numpy())\n",
    "                label_before.append(int(torch.argmax(logits_before).cpu().detach().numpy()))\n",
    "                \n",
    "                \n",
    "\n",
    "                # For the adversarial input\n",
    "                logits_after = model(raw_adversarial)\n",
    "                probabilities_after_run = torch.nn.functional.softmax(logits_after, dim=1)\n",
    "                probabilities_after.append(torch.max(probabilities_after_run).cpu().detach().numpy())\n",
    "                label_after.append(int(torch.argmax(logits_after).cpu().detach().numpy()))\n",
    "                \n",
    "            \n",
    "            # Track success\n",
    "            # successes.append(success)\n",
    "        \n",
    "        # Store results for this method\n",
    "        results.append({\n",
    "            \"Method\": method_name,\n",
    "            \"Avg Time (s)\": np.mean(times),\n",
    "            \"Avg Prob Before\": np.mean(probabilities_before),\n",
    "            \"Avg Prob After\": np.mean(probabilities_after),\n",
    "            \"Predicted Label Before\": label_before,\n",
    "            \"Predicted Label After\": label_after,\n",
    "            # \"Success Rate\": np.mean(successes),\n",
    "        })\n",
    "\n",
    "    # Convert to DataFrame for a tidy table\n",
    "    return pd.DataFrame(results)"
   ]
  },
  {
   "cell_type": "code",
   "execution_count": 8,
   "metadata": {},
   "outputs": [],
   "source": [
    "mobile_classifier = PyTorchClassifier(\n",
    "    model = mobile_model,\n",
    "    loss = torch.nn.CrossEntropyLoss(),\n",
    "    input_shape=(3,224, 224),\n",
    "    nb_classes=len(imagenet_labels),\n",
    "    optimizer=None,\n",
    "    clip_values=(0,1)\n",
    ")\n",
    "\n",
    "vgg16_classifier = PyTorchClassifier(\n",
    "    model = vgg16_model,\n",
    "    loss = torch.nn.CrossEntropyLoss(),\n",
    "    input_shape=(3,224,224),\n",
    "    nb_classes=len(imagenet_labels),\n",
    "    optimizer=None,\n",
    "    clip_values=(0,1)\n",
    ")\n",
    "\n",
    "resnet_classifier = PyTorchClassifier(\n",
    "    model = resnet_model,\n",
    "    loss = torch.nn.CrossEntropyLoss(),\n",
    "    input_shape=(3,224,224),\n",
    "    nb_classes=len(imagenet_labels),\n",
    "    optimizer=None,\n",
    "    clip_values=(0,1)\n",
    ")"
   ]
  },
  {
   "cell_type": "code",
   "execution_count": 9,
   "metadata": {},
   "outputs": [],
   "source": [
    "methods = {\n",
    "    'CarliniWagnerL2': art_with_cw2,\n",
    "    'PGD': art_with_pgd,\n",
    "    'DeepFool': art_with_deepfool,\n",
    "    'EADEN': art_with_eaden,\n",
    "    'HopSkipJump': art_with_hopskipjump,\n",
    "}\n",
    "\n",
    "image_url = 'https://as2.ftcdn.net/v2/jpg/03/05/26/83/1000_F_305268343_5Xi5esuvd6mIOqFC0QXZdCcqIWNQ6HR2.jpg'"
   ]
  },
  {
   "cell_type": "markdown",
   "metadata": {},
   "source": [
    "## MobileNet"
   ]
  },
  {
   "cell_type": "code",
   "execution_count": 10,
   "metadata": {},
   "outputs": [
    {
     "name": "stdout",
     "output_type": "stream",
     "text": [
      "Benchmarking CarliniWagnerL2...\n",
      "Benchmarking PGD...\n",
      "Benchmarking DeepFool...\n",
      "Benchmarking EADEN...\n",
      "Benchmarking HopSkipJump...\n"
     ]
    },
    {
     "ename": "KeyboardInterrupt",
     "evalue": "",
     "output_type": "error",
     "traceback": [
      "\u001b[1;31m---------------------------------------------------------------------------\u001b[0m",
      "\u001b[1;31mKeyboardInterrupt\u001b[0m                         Traceback (most recent call last)",
      "Cell \u001b[1;32mIn[10], line 1\u001b[0m\n\u001b[1;32m----> 1\u001b[0m display(\u001b[43mbenchmark_methods\u001b[49m\u001b[43m(\u001b[49m\u001b[43mmethods\u001b[49m\u001b[43m,\u001b[49m\u001b[43m \u001b[49m\u001b[43mimage_url\u001b[49m\u001b[43m,\u001b[49m\u001b[43m \u001b[49m\u001b[43mmobile_model\u001b[49m\u001b[43m)\u001b[49m)\n",
      "Cell \u001b[1;32mIn[7], line 29\u001b[0m, in \u001b[0;36mbenchmark_methods\u001b[1;34m(methods, image_url, model, num_of_iters)\u001b[0m\n\u001b[0;32m     26\u001b[0m start_time \u001b[38;5;241m=\u001b[39m time\u001b[38;5;241m.\u001b[39mtime()\n\u001b[0;32m     28\u001b[0m \u001b[38;5;66;03m# Run the adversarial method\u001b[39;00m\n\u001b[1;32m---> 29\u001b[0m raw_adversarial \u001b[38;5;241m=\u001b[39m \u001b[43mmethod\u001b[49m\u001b[43m(\u001b[49m\u001b[43mimage_url\u001b[49m\u001b[43m,\u001b[49m\u001b[43m \u001b[49m\u001b[43mmodel\u001b[49m\u001b[43m)\u001b[49m\n\u001b[0;32m     31\u001b[0m img \u001b[38;5;241m=\u001b[39m Image\u001b[38;5;241m.\u001b[39mopen(urlopen(image_url))\n\u001b[0;32m     32\u001b[0m input_tensor \u001b[38;5;241m=\u001b[39m image_transforms(img)\u001b[38;5;241m.\u001b[39munsqueeze(\u001b[38;5;241m0\u001b[39m)\u001b[38;5;241m.\u001b[39mcuda()\n",
      "Cell \u001b[1;32mIn[6], line 17\u001b[0m, in \u001b[0;36mart_with_hopskipjump\u001b[1;34m(image_url, model)\u001b[0m\n\u001b[0;32m      6\u001b[0m classifier \u001b[38;5;241m=\u001b[39m PyTorchClassifier(\n\u001b[0;32m      7\u001b[0m     model \u001b[38;5;241m=\u001b[39m model,\n\u001b[0;32m      8\u001b[0m     loss \u001b[38;5;241m=\u001b[39m torch\u001b[38;5;241m.\u001b[39mnn\u001b[38;5;241m.\u001b[39mCrossEntropyLoss(),\n\u001b[1;32m   (...)\u001b[0m\n\u001b[0;32m     12\u001b[0m     clip_values\u001b[38;5;241m=\u001b[39m(\u001b[38;5;241m0\u001b[39m,\u001b[38;5;241m1\u001b[39m)\n\u001b[0;32m     13\u001b[0m )\n\u001b[0;32m     15\u001b[0m attack \u001b[38;5;241m=\u001b[39m HopSkipJump(classifier\u001b[38;5;241m=\u001b[39mclassifier, max_iter\u001b[38;5;241m=\u001b[39m\u001b[38;5;241m100\u001b[39m, verbose\u001b[38;5;241m=\u001b[39m\u001b[38;5;28;01mFalse\u001b[39;00m)\n\u001b[1;32m---> 17\u001b[0m adv_img \u001b[38;5;241m=\u001b[39m \u001b[43mattack\u001b[49m\u001b[38;5;241;43m.\u001b[39;49m\u001b[43mgenerate\u001b[49m\u001b[43m(\u001b[49m\u001b[43mx\u001b[49m\u001b[38;5;241;43m=\u001b[39;49m\u001b[43minput_img\u001b[49m\u001b[43m)\u001b[49m\n\u001b[0;32m     19\u001b[0m \u001b[38;5;28;01mreturn\u001b[39;00m torch\u001b[38;5;241m.\u001b[39mfrom_numpy(adv_img)\u001b[38;5;241m.\u001b[39mcuda()\n",
      "File \u001b[1;32mc:\\Users\\Wojciech\\Desktop\\ML-Advanced\\Benchmark-of-Methods-for-Adversarial-Attacks\\venv\\lib\\site-packages\\art\\attacks\\evasion\\hop_skip_jump.py:211\u001b[0m, in \u001b[0;36mHopSkipJump.generate\u001b[1;34m(self, x, y, **kwargs)\u001b[0m\n\u001b[0;32m    199\u001b[0m         x_adv[ind] \u001b[38;5;241m=\u001b[39m \u001b[38;5;28mself\u001b[39m\u001b[38;5;241m.\u001b[39m_perturb(\n\u001b[0;32m    200\u001b[0m             x\u001b[38;5;241m=\u001b[39mval,\n\u001b[0;32m    201\u001b[0m             y\u001b[38;5;241m=\u001b[39my[ind],  \u001b[38;5;66;03m# type: ignore\u001b[39;00m\n\u001b[1;32m   (...)\u001b[0m\n\u001b[0;32m    207\u001b[0m             clip_max\u001b[38;5;241m=\u001b[39mclip_max,\n\u001b[0;32m    208\u001b[0m         )\n\u001b[0;32m    210\u001b[0m     \u001b[38;5;28;01melse\u001b[39;00m:\n\u001b[1;32m--> 211\u001b[0m         x_adv[ind] \u001b[38;5;241m=\u001b[39m \u001b[38;5;28;43mself\u001b[39;49m\u001b[38;5;241;43m.\u001b[39;49m\u001b[43m_perturb\u001b[49m\u001b[43m(\u001b[49m\n\u001b[0;32m    212\u001b[0m \u001b[43m            \u001b[49m\u001b[43mx\u001b[49m\u001b[38;5;241;43m=\u001b[39;49m\u001b[43mval\u001b[49m\u001b[43m,\u001b[49m\n\u001b[0;32m    213\u001b[0m \u001b[43m            \u001b[49m\u001b[43my\u001b[49m\u001b[38;5;241;43m=\u001b[39;49m\u001b[38;5;241;43m-\u001b[39;49m\u001b[38;5;241;43m1\u001b[39;49m\u001b[43m,\u001b[49m\n\u001b[0;32m    214\u001b[0m \u001b[43m            \u001b[49m\u001b[43my_p\u001b[49m\u001b[38;5;241;43m=\u001b[39;49m\u001b[43mpreds\u001b[49m\u001b[43m[\u001b[49m\u001b[43mind\u001b[49m\u001b[43m]\u001b[49m\u001b[43m,\u001b[49m\n\u001b[0;32m    215\u001b[0m \u001b[43m            \u001b[49m\u001b[43minit_pred\u001b[49m\u001b[38;5;241;43m=\u001b[39;49m\u001b[43minit_preds\u001b[49m\u001b[43m[\u001b[49m\u001b[43mind\u001b[49m\u001b[43m]\u001b[49m\u001b[43m,\u001b[49m\n\u001b[0;32m    216\u001b[0m \u001b[43m            \u001b[49m\u001b[43madv_init\u001b[49m\u001b[38;5;241;43m=\u001b[39;49m\u001b[43mx_adv_init\u001b[49m\u001b[43m[\u001b[49m\u001b[43mind\u001b[49m\u001b[43m]\u001b[49m\u001b[43m,\u001b[49m\n\u001b[0;32m    217\u001b[0m \u001b[43m            \u001b[49m\u001b[43mmask\u001b[49m\u001b[38;5;241;43m=\u001b[39;49m\u001b[43mmask\u001b[49m\u001b[43m[\u001b[49m\u001b[43mind\u001b[49m\u001b[43m]\u001b[49m\u001b[43m,\u001b[49m\n\u001b[0;32m    218\u001b[0m \u001b[43m            \u001b[49m\u001b[43mclip_min\u001b[49m\u001b[38;5;241;43m=\u001b[39;49m\u001b[43mclip_min\u001b[49m\u001b[43m,\u001b[49m\n\u001b[0;32m    219\u001b[0m \u001b[43m            \u001b[49m\u001b[43mclip_max\u001b[49m\u001b[38;5;241;43m=\u001b[39;49m\u001b[43mclip_max\u001b[49m\u001b[43m,\u001b[49m\n\u001b[0;32m    220\u001b[0m \u001b[43m        \u001b[49m\u001b[43m)\u001b[49m\n\u001b[0;32m    222\u001b[0m y \u001b[38;5;241m=\u001b[39m to_categorical(y, \u001b[38;5;28mself\u001b[39m\u001b[38;5;241m.\u001b[39mestimator\u001b[38;5;241m.\u001b[39mnb_classes)  \u001b[38;5;66;03m# type: ignore\u001b[39;00m\n\u001b[0;32m    224\u001b[0m logger\u001b[38;5;241m.\u001b[39minfo(\n\u001b[0;32m    225\u001b[0m     \u001b[38;5;124m\"\u001b[39m\u001b[38;5;124mSuccess rate of HopSkipJump attack: \u001b[39m\u001b[38;5;132;01m%.2f\u001b[39;00m\u001b[38;5;132;01m%%\u001b[39;00m\u001b[38;5;124m\"\u001b[39m,\n\u001b[0;32m    226\u001b[0m     \u001b[38;5;241m100\u001b[39m \u001b[38;5;241m*\u001b[39m compute_success(\u001b[38;5;28mself\u001b[39m\u001b[38;5;241m.\u001b[39mestimator, x, y, x_adv, \u001b[38;5;28mself\u001b[39m\u001b[38;5;241m.\u001b[39mtargeted, batch_size\u001b[38;5;241m=\u001b[39m\u001b[38;5;28mself\u001b[39m\u001b[38;5;241m.\u001b[39mbatch_size),\n\u001b[0;32m    227\u001b[0m )\n",
      "File \u001b[1;32mc:\\Users\\Wojciech\\Desktop\\ML-Advanced\\Benchmark-of-Methods-for-Adversarial-Attacks\\venv\\lib\\site-packages\\art\\attacks\\evasion\\hop_skip_jump.py:265\u001b[0m, in \u001b[0;36mHopSkipJump._perturb\u001b[1;34m(self, x, y, y_p, init_pred, adv_init, mask, clip_min, clip_max)\u001b[0m\n\u001b[0;32m    262\u001b[0m     \u001b[38;5;28;01mreturn\u001b[39;00m x\n\u001b[0;32m    264\u001b[0m \u001b[38;5;66;03m# If an initial adversarial example found, then go with HopSkipJump attack\u001b[39;00m\n\u001b[1;32m--> 265\u001b[0m x_adv \u001b[38;5;241m=\u001b[39m \u001b[38;5;28;43mself\u001b[39;49m\u001b[38;5;241;43m.\u001b[39;49m\u001b[43m_attack\u001b[49m\u001b[43m(\u001b[49m\u001b[43minitial_sample\u001b[49m\u001b[43m[\u001b[49m\u001b[38;5;241;43m0\u001b[39;49m\u001b[43m]\u001b[49m\u001b[43m,\u001b[49m\u001b[43m \u001b[49m\u001b[43mx\u001b[49m\u001b[43m,\u001b[49m\u001b[43m \u001b[49m\u001b[43minitial_sample\u001b[49m\u001b[43m[\u001b[49m\u001b[38;5;241;43m1\u001b[39;49m\u001b[43m]\u001b[49m\u001b[43m,\u001b[49m\u001b[43m \u001b[49m\u001b[43mmask\u001b[49m\u001b[43m,\u001b[49m\u001b[43m \u001b[49m\u001b[43mclip_min\u001b[49m\u001b[43m,\u001b[49m\u001b[43m \u001b[49m\u001b[43mclip_max\u001b[49m\u001b[43m)\u001b[49m\n\u001b[0;32m    267\u001b[0m \u001b[38;5;28;01mreturn\u001b[39;00m x_adv\n",
      "File \u001b[1;32mc:\\Users\\Wojciech\\Desktop\\ML-Advanced\\Benchmark-of-Methods-for-Adversarial-Attacks\\venv\\lib\\site-packages\\art\\attacks\\evasion\\hop_skip_jump.py:422\u001b[0m, in \u001b[0;36mHopSkipJump._attack\u001b[1;34m(self, initial_sample, original_sample, target, mask, clip_min, clip_max)\u001b[0m\n\u001b[0;32m    419\u001b[0m \u001b[38;5;66;03m# Next compute the number of evaluations and compute the update\u001b[39;00m\n\u001b[0;32m    420\u001b[0m num_eval \u001b[38;5;241m=\u001b[39m \u001b[38;5;28mmin\u001b[39m(\u001b[38;5;28mint\u001b[39m(\u001b[38;5;28mself\u001b[39m\u001b[38;5;241m.\u001b[39minit_eval \u001b[38;5;241m*\u001b[39m np\u001b[38;5;241m.\u001b[39msqrt(\u001b[38;5;28mself\u001b[39m\u001b[38;5;241m.\u001b[39mcurr_iter \u001b[38;5;241m+\u001b[39m \u001b[38;5;241m1\u001b[39m)), \u001b[38;5;28mself\u001b[39m\u001b[38;5;241m.\u001b[39mmax_eval)\n\u001b[1;32m--> 422\u001b[0m update \u001b[38;5;241m=\u001b[39m \u001b[38;5;28;43mself\u001b[39;49m\u001b[38;5;241;43m.\u001b[39;49m\u001b[43m_compute_update\u001b[49m\u001b[43m(\u001b[49m\n\u001b[0;32m    423\u001b[0m \u001b[43m    \u001b[49m\u001b[43mcurrent_sample\u001b[49m\u001b[38;5;241;43m=\u001b[39;49m\u001b[43mcurrent_sample\u001b[49m\u001b[43m,\u001b[49m\n\u001b[0;32m    424\u001b[0m \u001b[43m    \u001b[49m\u001b[43mnum_eval\u001b[49m\u001b[38;5;241;43m=\u001b[39;49m\u001b[43mnum_eval\u001b[49m\u001b[43m,\u001b[49m\n\u001b[0;32m    425\u001b[0m \u001b[43m    \u001b[49m\u001b[43mdelta\u001b[49m\u001b[38;5;241;43m=\u001b[39;49m\u001b[43mdelta\u001b[49m\u001b[43m,\u001b[49m\n\u001b[0;32m    426\u001b[0m \u001b[43m    \u001b[49m\u001b[43mtarget\u001b[49m\u001b[38;5;241;43m=\u001b[39;49m\u001b[43mtarget\u001b[49m\u001b[43m,\u001b[49m\n\u001b[0;32m    427\u001b[0m \u001b[43m    \u001b[49m\u001b[43mmask\u001b[49m\u001b[38;5;241;43m=\u001b[39;49m\u001b[43mmask\u001b[49m\u001b[43m,\u001b[49m\n\u001b[0;32m    428\u001b[0m \u001b[43m    \u001b[49m\u001b[43mclip_min\u001b[49m\u001b[38;5;241;43m=\u001b[39;49m\u001b[43mclip_min\u001b[49m\u001b[43m,\u001b[49m\n\u001b[0;32m    429\u001b[0m \u001b[43m    \u001b[49m\u001b[43mclip_max\u001b[49m\u001b[38;5;241;43m=\u001b[39;49m\u001b[43mclip_max\u001b[49m\u001b[43m,\u001b[49m\n\u001b[0;32m    430\u001b[0m \u001b[43m\u001b[49m\u001b[43m)\u001b[49m\n\u001b[0;32m    432\u001b[0m \u001b[38;5;66;03m# Finally run step size search by first computing epsilon\u001b[39;00m\n\u001b[0;32m    433\u001b[0m \u001b[38;5;28;01mif\u001b[39;00m \u001b[38;5;28mself\u001b[39m\u001b[38;5;241m.\u001b[39mnorm \u001b[38;5;241m==\u001b[39m \u001b[38;5;241m2\u001b[39m:\n",
      "File \u001b[1;32mc:\\Users\\Wojciech\\Desktop\\ML-Advanced\\Benchmark-of-Methods-for-Adversarial-Attacks\\venv\\lib\\site-packages\\art\\attacks\\evasion\\hop_skip_jump.py:589\u001b[0m, in \u001b[0;36mHopSkipJump._compute_update\u001b[1;34m(self, current_sample, num_eval, delta, target, mask, clip_min, clip_max)\u001b[0m\n\u001b[0;32m    587\u001b[0m rnd_noise_shape \u001b[38;5;241m=\u001b[39m [num_eval] \u001b[38;5;241m+\u001b[39m \u001b[38;5;28mlist\u001b[39m(\u001b[38;5;28mself\u001b[39m\u001b[38;5;241m.\u001b[39mestimator\u001b[38;5;241m.\u001b[39minput_shape)\n\u001b[0;32m    588\u001b[0m \u001b[38;5;28;01mif\u001b[39;00m \u001b[38;5;28mself\u001b[39m\u001b[38;5;241m.\u001b[39mnorm \u001b[38;5;241m==\u001b[39m \u001b[38;5;241m2\u001b[39m:\n\u001b[1;32m--> 589\u001b[0m     rnd_noise \u001b[38;5;241m=\u001b[39m \u001b[43mnp\u001b[49m\u001b[38;5;241;43m.\u001b[39;49m\u001b[43mrandom\u001b[49m\u001b[38;5;241;43m.\u001b[39;49m\u001b[43mrandn\u001b[49m\u001b[43m(\u001b[49m\u001b[38;5;241;43m*\u001b[39;49m\u001b[43mrnd_noise_shape\u001b[49m\u001b[43m)\u001b[49m\u001b[38;5;241m.\u001b[39mastype(ART_NUMPY_DTYPE)\n\u001b[0;32m    590\u001b[0m \u001b[38;5;28;01melse\u001b[39;00m:\n\u001b[0;32m    591\u001b[0m     rnd_noise \u001b[38;5;241m=\u001b[39m np\u001b[38;5;241m.\u001b[39mrandom\u001b[38;5;241m.\u001b[39muniform(low\u001b[38;5;241m=\u001b[39m\u001b[38;5;241m-\u001b[39m\u001b[38;5;241m1\u001b[39m, high\u001b[38;5;241m=\u001b[39m\u001b[38;5;241m1\u001b[39m, size\u001b[38;5;241m=\u001b[39mrnd_noise_shape)\u001b[38;5;241m.\u001b[39mastype(ART_NUMPY_DTYPE)\n",
      "\u001b[1;31mKeyboardInterrupt\u001b[0m: "
     ]
    }
   ],
   "source": [
    "display(benchmark_methods(methods, image_url, mobile_model))"
   ]
  },
  {
   "cell_type": "markdown",
   "metadata": {},
   "source": [
    "## Resnet50"
   ]
  },
  {
   "cell_type": "code",
   "execution_count": null,
   "metadata": {},
   "outputs": [],
   "source": [
    "display(benchmark_methods(methods, image_url, resnet_model))"
   ]
  },
  {
   "cell_type": "markdown",
   "metadata": {},
   "source": [
    "## VGG 16"
   ]
  },
  {
   "cell_type": "code",
   "execution_count": null,
   "metadata": {},
   "outputs": [
    {
     "name": "stdout",
     "output_type": "stream",
     "text": [
      "Benchmarking PGD...\n"
     ]
    },
    {
     "data": {
      "text/html": [
       "<div>\n",
       "<style scoped>\n",
       "    .dataframe tbody tr th:only-of-type {\n",
       "        vertical-align: middle;\n",
       "    }\n",
       "\n",
       "    .dataframe tbody tr th {\n",
       "        vertical-align: top;\n",
       "    }\n",
       "\n",
       "    .dataframe thead th {\n",
       "        text-align: right;\n",
       "    }\n",
       "</style>\n",
       "<table border=\"1\" class=\"dataframe\">\n",
       "  <thead>\n",
       "    <tr style=\"text-align: right;\">\n",
       "      <th></th>\n",
       "      <th>Method</th>\n",
       "      <th>Avg Time (s)</th>\n",
       "      <th>Avg Prob Before</th>\n",
       "      <th>Avg Prob After</th>\n",
       "      <th>Predicted Label Before</th>\n",
       "      <th>Predicted Label After</th>\n",
       "    </tr>\n",
       "  </thead>\n",
       "  <tbody>\n",
       "    <tr>\n",
       "      <th>0</th>\n",
       "      <td>PGD</td>\n",
       "      <td>60.710116</td>\n",
       "      <td>0.185692</td>\n",
       "      <td>1.0</td>\n",
       "      <td>[132, 132, 132, 132, 132, 132, 132]</td>\n",
       "      <td>[123, 123, 123, 123, 123, 123, 123]</td>\n",
       "    </tr>\n",
       "  </tbody>\n",
       "</table>\n",
       "</div>"
      ],
      "text/plain": [
       "  Method  ...                Predicted Label After\n",
       "0    PGD  ...  [123, 123, 123, 123, 123, 123, 123]\n",
       "\n",
       "[1 rows x 6 columns]"
      ]
     },
     "metadata": {},
     "output_type": "display_data"
    }
   ],
   "source": [
    "display(benchmark_methods(methods, image_url, vgg16_model))"
   ]
  }
 ],
 "metadata": {
  "kernelspec": {
   "display_name": "venv",
   "language": "python",
   "name": "python3"
  },
  "language_info": {
   "codemirror_mode": {
    "name": "ipython",
    "version": 3
   },
   "file_extension": ".py",
   "mimetype": "text/x-python",
   "name": "python",
   "nbconvert_exporter": "python",
   "pygments_lexer": "ipython3",
   "version": "3.10.6"
  }
 },
 "nbformat": 4,
 "nbformat_minor": 2
}
