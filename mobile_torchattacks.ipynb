{
 "cells": [
  {
   "cell_type": "code",
   "execution_count": 81,
   "metadata": {},
   "outputs": [],
   "source": [
    "import torch\n",
    "import timm\n",
    "from PIL import Image\n",
    "from urllib.request import urlopen\n",
    "import requests\n",
    "import numpy as np\n",
    "import torchvision as tivision"
   ]
  },
  {
   "cell_type": "code",
   "execution_count": 82,
   "metadata": {},
   "outputs": [],
   "source": [
    "import torchattacks"
   ]
  },
  {
   "cell_type": "code",
   "execution_count": 83,
   "metadata": {},
   "outputs": [],
   "source": [
    "mobile_model = timm.create_model('tf_mobilenetv3_large_minimal_100.in1k', pretrained=True)\n",
    "mobile_model = mobile_model.cuda().eval()"
   ]
  },
  {
   "cell_type": "code",
   "execution_count": 84,
   "metadata": {},
   "outputs": [],
   "source": [
    "url = \"https://raw.githubusercontent.com/anishathalye/imagenet-simple-labels/master/imagenet-simple-labels.json\"\n",
    "imagenet_labels = requests.get(url).json()"
   ]
  },
  {
   "cell_type": "code",
   "execution_count": 85,
   "metadata": {},
   "outputs": [],
   "source": [
    "image_url = 'https://as2.ftcdn.net/v2/jpg/03/05/26/83/1000_F_305268343_5Xi5esuvd6mIOqFC0QXZdCcqIWNQ6HR2.jpg'\n",
    "img = Image.open(urlopen(image_url))\n"
   ]
  },
  {
   "cell_type": "code",
   "execution_count": 86,
   "metadata": {},
   "outputs": [],
   "source": [
    "image_transforms = tivision.transforms.Compose([\n",
    "        tivision.transforms.Resize((224,224)),\n",
    "        tivision.transforms.ToTensor(),\n",
    "        tivision.transforms.Normalize(mean=[0.485, 0.456, 0.406], std=[0.229, 0.224, 0.225])\n",
    "    ])"
   ]
  },
  {
   "cell_type": "code",
   "execution_count": 87,
   "metadata": {},
   "outputs": [],
   "source": [
    "img_tensor = image_transforms(img).unsqueeze(0).cuda()"
   ]
  },
  {
   "cell_type": "markdown",
   "metadata": {},
   "source": [
    "CW"
   ]
  },
  {
   "cell_type": "code",
   "execution_count": 88,
   "metadata": {},
   "outputs": [],
   "source": [
    "def attack_model_with_cw( image_url,model, label=9):\n",
    "    img = Image.open(urlopen(image_url))\n",
    "\n",
    "    image_transforms = tivision.transforms.Compose([\n",
    "        tivision.transforms.Resize((224,224)),\n",
    "        tivision.transforms.ToTensor(),\n",
    "        # tivision.transforms.Normalize(mean=[0.485, 0.456, 0.406], std=[0.229, 0.224, 0.225])\n",
    "    ])\n",
    "    \n",
    "    img_tensor = image_transforms(img).unsqueeze(0).cuda()\n",
    "    imagenet_labels_tensor = torch.tensor([label]).cuda()\n",
    "\n",
    "    # atk = torchattacks.DeepFool(model, steps=10, overshoot=0.000001)\n",
    "    atk = torchattacks.CW(model, c=1, kappa=0, steps=10, lr=0.1)\n",
    "    raw_adversarial = atk(img_tensor, imagenet_labels_tensor)\n",
    "    return raw_adversarial"
   ]
  },
  {
   "cell_type": "code",
   "execution_count": 89,
   "metadata": {},
   "outputs": [
    {
     "name": "stdout",
     "output_type": "stream",
     "text": [
      "Original image\n",
      "Prediction: ostrich\n",
      "Adversarial image\n",
      "Prediction: bustard\n"
     ]
    }
   ],
   "source": [
    "print(\"Original image\")\n",
    "print(\"Prediction:\", imagenet_labels[torch.argmax(mobile_model(img_tensor)[0]).item()])\n",
    "\n",
    "\n",
    "adv_images = attack_model_with_cw( 'https://as2.ftcdn.net/v2/jpg/03/05/26/83/1000_F_305268343_5Xi5esuvd6mIOqFC0QXZdCcqIWNQ6HR2.jpg',mobile_model)\n",
    "\n",
    "print(\"Adversarial image\")\n",
    "print(\"Prediction:\", imagenet_labels[torch.argmax(mobile_model(adv_images)[0]).item()])\n",
    "\n"
   ]
  },
  {
   "cell_type": "markdown",
   "metadata": {},
   "source": [
    "EADEN"
   ]
  },
  {
   "cell_type": "code",
   "execution_count": 90,
   "metadata": {},
   "outputs": [],
   "source": [
    "def attack_model_with_eaden( image_url, model, label=9):\n",
    "    img = Image.open(urlopen(image_url))\n",
    "\n",
    "    image_transforms = tivision.transforms.Compose([\n",
    "        tivision.transforms.Resize((224,224)),\n",
    "        tivision.transforms.ToTensor(),\n",
    "        tivision.transforms.Normalize(mean=[0.485, 0.456, 0.406], std=[0.229, 0.224, 0.225])\n",
    "    ])\n",
    "    \n",
    "    img_tensor = image_transforms(img).unsqueeze(0).cuda()\n",
    "    imagenet_labels_tensor = torch.tensor([label]).cuda()\n",
    "\n",
    "    atk = torchattacks.EADEN(model,binary_search_steps=10 ,max_iterations=10)\n",
    "    raw_adversarial = atk(img_tensor, imagenet_labels_tensor)\n",
    "    return raw_adversarial"
   ]
  },
  {
   "cell_type": "code",
   "execution_count": 91,
   "metadata": {},
   "outputs": [
    {
     "name": "stdout",
     "output_type": "stream",
     "text": [
      "Original image\n",
      "Prediction: ostrich\n",
      "Adversarial image\n",
      "Prediction: peacock\n",
      "0.16932693\n"
     ]
    }
   ],
   "source": [
    "\n",
    "print(\"Original image\")\n",
    "print(\"Prediction:\", imagenet_labels[torch.argmax(mobile_model(img_tensor)[0]).item()])\n",
    "\n",
    "adv_images = attack_model_with_eaden( 'https://as2.ftcdn.net/v2/jpg/03/05/26/83/1000_F_305268343_5Xi5esuvd6mIOqFC0QXZdCcqIWNQ6HR2.jpg',mobile_model)\n",
    "\n",
    "\n",
    "print(\"Adversarial image\")\n",
    "print(\"Prediction:\", imagenet_labels[torch.argmax(mobile_model(adv_images)[0]).item()])\n",
    "\n",
    "print(torch.max(torch.nn.functional.softmax(mobile_model(adv_images), dim=1)).cpu().detach().numpy())\n"
   ]
  },
  {
   "cell_type": "markdown",
   "metadata": {},
   "source": [
    "SUMMARY"
   ]
  },
  {
   "cell_type": "code",
   "execution_count": 92,
   "metadata": {},
   "outputs": [],
   "source": [
    "import time\n",
    "import pandas as pd"
   ]
  },
  {
   "cell_type": "code",
   "execution_count": 93,
   "metadata": {},
   "outputs": [],
   "source": [
    "def benchmark_methods(methods: dict, image_url: str, model, num_of_iters = 5):\n",
    "    \"\"\"\n",
    "    Benchmark a set of adversarial attack methods.\n",
    "\n",
    "    Args:\n",
    "        methods (dict): Dictionary of attack methods {method_name: function}.\n",
    "        image_url (str): URL of the input image.\n",
    "        model: Pretrained model to attack.\n",
    "\n",
    "    Returns:\n",
    "        pd.DataFrame: Benchmarking results as a tidy table.\n",
    "    \"\"\"\n",
    "    results = []\n",
    "    \n",
    "    image_transforms = tivision.transforms.Compose([\n",
    "        tivision.transforms.Resize((224,224)),\n",
    "        tivision.transforms.ToTensor(),\n",
    "        tivision.transforms.Normalize(mean=[0.485, 0.456, 0.406], std=[0.229, 0.224, 0.225])\n",
    "    ])\n",
    "\n",
    "    for method_name, method in methods.items():\n",
    "        times = []\n",
    "        probabilities_before = []\n",
    "        probabilities_after = []\n",
    "        label_before = []\n",
    "        label_after = []\n",
    "        # successes = []\n",
    "\n",
    "        print(f\"Benchmarking {method_name}...\")\n",
    "\n",
    "        for _ in range(num_of_iters):  # Run each method 3 times\n",
    "            start_time = time.time()\n",
    "            \n",
    "            # Run the adversarial method\n",
    "            outputs = method(image_url, model)\n",
    "            raw_adversarial = outputs\n",
    "            \n",
    "            img = Image.open(urlopen(image_url))\n",
    "            input_tensor = image_transforms(img).unsqueeze(0).cuda()\n",
    "            \n",
    "            \n",
    "            # Measure time\n",
    "            elapsed_time = time.time() - start_time\n",
    "            times.append(elapsed_time)\n",
    "            \n",
    "            # Collect probabilities\n",
    "            with torch.no_grad():\n",
    "                # For the original input\n",
    "                logits_before = model(input_tensor)\n",
    "                probabilities_before_run = torch.nn.functional.softmax(logits_before, dim=1)\n",
    "                probabilities_before.append(torch.max(probabilities_before_run).cpu().detach().numpy())\n",
    "                label_before.append(int(torch.argmax(logits_before).cpu().detach().numpy()))\n",
    "                \n",
    "                \n",
    "\n",
    "                # For the adversarial input\n",
    "                logits_after = model(raw_adversarial)\n",
    "                probabilities_after_run = torch.nn.functional.softmax(logits_after, dim=1)\n",
    "                probabilities_after.append(torch.max(probabilities_after_run).cpu().detach().numpy())\n",
    "                label_after.append(int(torch.argmax(logits_after).cpu().detach().numpy()))\n",
    "                \n",
    "            \n",
    "            # Track success\n",
    "            # successes.append(success)\n",
    "        \n",
    "        # Store results for this method\n",
    "        results.append({\n",
    "            \"Method\": method_name,\n",
    "            \"Avg Time (s)\": np.mean(times),\n",
    "            \"Avg Prob Before\": np.mean(probabilities_before),\n",
    "            \"Avg Prob After\": np.mean(probabilities_after),\n",
    "            \"Predicted Label Before\": label_before,\n",
    "            \"Predicted Label After\": label_after,\n",
    "            # \"Success Rate\": np.mean(successes),\n",
    "        })\n",
    "\n",
    "    # Convert to DataFrame for a tidy table\n",
    "    return pd.DataFrame(results)"
   ]
  },
  {
   "cell_type": "code",
   "execution_count": 94,
   "metadata": {},
   "outputs": [
    {
     "name": "stdout",
     "output_type": "stream",
     "text": [
      "Benchmarking EAD_EN...\n",
      "Benchmarking CW...\n"
     ]
    },
    {
     "data": {
      "text/html": [
       "<div>\n",
       "<style scoped>\n",
       "    .dataframe tbody tr th:only-of-type {\n",
       "        vertical-align: middle;\n",
       "    }\n",
       "\n",
       "    .dataframe tbody tr th {\n",
       "        vertical-align: top;\n",
       "    }\n",
       "\n",
       "    .dataframe thead th {\n",
       "        text-align: right;\n",
       "    }\n",
       "</style>\n",
       "<table border=\"1\" class=\"dataframe\">\n",
       "  <thead>\n",
       "    <tr style=\"text-align: right;\">\n",
       "      <th></th>\n",
       "      <th>Method</th>\n",
       "      <th>Avg Time (s)</th>\n",
       "      <th>Avg Prob Before</th>\n",
       "      <th>Avg Prob After</th>\n",
       "      <th>Predicted Label Before</th>\n",
       "      <th>Predicted Label After</th>\n",
       "    </tr>\n",
       "  </thead>\n",
       "  <tbody>\n",
       "    <tr>\n",
       "      <th>0</th>\n",
       "      <td>EAD_EN</td>\n",
       "      <td>1.142908</td>\n",
       "      <td>0.966443</td>\n",
       "      <td>0.230454</td>\n",
       "      <td>[9, 9, 9, 9, 9]</td>\n",
       "      <td>[84, 84, 84, 84, 84]</td>\n",
       "    </tr>\n",
       "    <tr>\n",
       "      <th>1</th>\n",
       "      <td>CW</td>\n",
       "      <td>0.560652</td>\n",
       "      <td>0.966443</td>\n",
       "      <td>0.488790</td>\n",
       "      <td>[9, 9, 9, 9, 9]</td>\n",
       "      <td>[138, 138, 138, 138, 138]</td>\n",
       "    </tr>\n",
       "  </tbody>\n",
       "</table>\n",
       "</div>"
      ],
      "text/plain": [
       "   Method  Avg Time (s)  Avg Prob Before  Avg Prob After  \\\n",
       "0  EAD_EN      1.142908         0.966443        0.230454   \n",
       "1      CW      0.560652         0.966443        0.488790   \n",
       "\n",
       "  Predicted Label Before      Predicted Label After  \n",
       "0        [9, 9, 9, 9, 9]       [84, 84, 84, 84, 84]  \n",
       "1        [9, 9, 9, 9, 9]  [138, 138, 138, 138, 138]  "
      ]
     },
     "metadata": {},
     "output_type": "display_data"
    }
   ],
   "source": [
    "methods = {\n",
    "    \"EAD_EN\": attack_model_with_eaden,\n",
    "    \"CW\": attack_model_with_cw,\n",
    "    \n",
    "}\n",
    "\n",
    "image_url ='https://as2.ftcdn.net/v2/jpg/03/05/26/83/1000_F_305268343_5Xi5esuvd6mIOqFC0QXZdCcqIWNQ6HR2.jpg'  # Replace with actual image path\n",
    "\n",
    "benchmark_results = benchmark_methods(methods, image_url, mobile_model, num_of_iters=5)\n",
    "\n",
    "display(benchmark_results)"
   ]
  }
 ],
 "metadata": {
  "kernelspec": {
   "display_name": ".venv",
   "language": "python",
   "name": "python3"
  },
  "language_info": {
   "codemirror_mode": {
    "name": "ipython",
    "version": 3
   },
   "file_extension": ".py",
   "mimetype": "text/x-python",
   "name": "python",
   "nbconvert_exporter": "python",
   "pygments_lexer": "ipython3",
   "version": "3.12.2"
  }
 },
 "nbformat": 4,
 "nbformat_minor": 2
}
